{
  "nbformat": 4,
  "nbformat_minor": 0,
  "metadata": {
    "colab": {
      "provenance": []
    },
    "kernelspec": {
      "name": "python3",
      "display_name": "Python 3"
    },
    "language_info": {
      "name": "python"
    }
  },
  "cells": [
    {
      "cell_type": "markdown",
      "metadata": {
        "id": "0oiOTFiLkSsr"
      },
      "source": [
        "# ML 서울시 따릉이 자전거 이용 예측 경진대회"
      ]
    },
    {
      "cell_type": "markdown",
      "metadata": {
        "id": "QIZqhlbgppoA"
      },
      "source": [
        ": 2017년 4월 1일부터, 5월 31일까지 시간별로 서울시 따릉이 대여수와 기상상황 데이터가 주어집니다.\n",
        "\n",
        ": 각 날짜의 1시간 전의 기상상황을 가지고 1시간 후의 따릉이 대여수를 예측해보세요. "
      ]
    },
    {
      "cell_type": "code",
      "metadata": {
        "id": "HesnYbimlDXV"
      },
      "source": [
        "# 패키지 import\n",
        "import pandas as pd\n",
        "import numpy as np\n",
        "import matplotlib.pyplot as plt\n",
        "import seaborn as sns"
      ],
      "execution_count": null,
      "outputs": []
    },
    {
      "cell_type": "code",
      "metadata": {
        "id": "tkAiZorCiw86"
      },
      "source": [
        "# 데이터 불러오기\n",
        "train = pd.read_csv('/content/drive/MyDrive/kubig - 머신러닝 스터디/따릉이 경진대회/train.csv')\n",
        "test = pd.read_csv('/content/drive/MyDrive/kubig - 머신러닝 스터디/따릉이 경진대회/test.csv')\n",
        "submission = pd.read_csv('/content/drive/MyDrive/kubig - 머신러닝 스터디/따릉이 경진대회/submission.csv')"
      ],
      "execution_count": null,
      "outputs": []
    },
    {
      "cell_type": "code",
      "metadata": {
        "colab": {
          "base_uri": "https://localhost:8080/",
          "height": 204
        },
        "id": "Ev3JZjBCmf1k",
        "outputId": "1be53fc9-a7b1-485a-dbda-64875a69a315"
      },
      "source": [
        "# 둘러보기\n",
        "train.head()"
      ],
      "execution_count": null,
      "outputs": [
        {
          "output_type": "execute_result",
          "data": {
            "text/html": [
              "<div>\n",
              "<style scoped>\n",
              "    .dataframe tbody tr th:only-of-type {\n",
              "        vertical-align: middle;\n",
              "    }\n",
              "\n",
              "    .dataframe tbody tr th {\n",
              "        vertical-align: top;\n",
              "    }\n",
              "\n",
              "    .dataframe thead th {\n",
              "        text-align: right;\n",
              "    }\n",
              "</style>\n",
              "<table border=\"1\" class=\"dataframe\">\n",
              "  <thead>\n",
              "    <tr style=\"text-align: right;\">\n",
              "      <th></th>\n",
              "      <th>id</th>\n",
              "      <th>hour</th>\n",
              "      <th>hour_bef_temperature</th>\n",
              "      <th>hour_bef_precipitation</th>\n",
              "      <th>hour_bef_windspeed</th>\n",
              "      <th>hour_bef_humidity</th>\n",
              "      <th>hour_bef_visibility</th>\n",
              "      <th>hour_bef_ozone</th>\n",
              "      <th>hour_bef_pm10</th>\n",
              "      <th>hour_bef_pm2.5</th>\n",
              "      <th>count</th>\n",
              "    </tr>\n",
              "  </thead>\n",
              "  <tbody>\n",
              "    <tr>\n",
              "      <th>0</th>\n",
              "      <td>3</td>\n",
              "      <td>20</td>\n",
              "      <td>16.3</td>\n",
              "      <td>1.0</td>\n",
              "      <td>1.5</td>\n",
              "      <td>89.0</td>\n",
              "      <td>576.0</td>\n",
              "      <td>0.027</td>\n",
              "      <td>76.0</td>\n",
              "      <td>33.0</td>\n",
              "      <td>49.0</td>\n",
              "    </tr>\n",
              "    <tr>\n",
              "      <th>1</th>\n",
              "      <td>6</td>\n",
              "      <td>13</td>\n",
              "      <td>20.1</td>\n",
              "      <td>0.0</td>\n",
              "      <td>1.4</td>\n",
              "      <td>48.0</td>\n",
              "      <td>916.0</td>\n",
              "      <td>0.042</td>\n",
              "      <td>73.0</td>\n",
              "      <td>40.0</td>\n",
              "      <td>159.0</td>\n",
              "    </tr>\n",
              "    <tr>\n",
              "      <th>2</th>\n",
              "      <td>7</td>\n",
              "      <td>6</td>\n",
              "      <td>13.9</td>\n",
              "      <td>0.0</td>\n",
              "      <td>0.7</td>\n",
              "      <td>79.0</td>\n",
              "      <td>1382.0</td>\n",
              "      <td>0.033</td>\n",
              "      <td>32.0</td>\n",
              "      <td>19.0</td>\n",
              "      <td>26.0</td>\n",
              "    </tr>\n",
              "    <tr>\n",
              "      <th>3</th>\n",
              "      <td>8</td>\n",
              "      <td>23</td>\n",
              "      <td>8.1</td>\n",
              "      <td>0.0</td>\n",
              "      <td>2.7</td>\n",
              "      <td>54.0</td>\n",
              "      <td>946.0</td>\n",
              "      <td>0.040</td>\n",
              "      <td>75.0</td>\n",
              "      <td>64.0</td>\n",
              "      <td>57.0</td>\n",
              "    </tr>\n",
              "    <tr>\n",
              "      <th>4</th>\n",
              "      <td>9</td>\n",
              "      <td>18</td>\n",
              "      <td>29.5</td>\n",
              "      <td>0.0</td>\n",
              "      <td>4.8</td>\n",
              "      <td>7.0</td>\n",
              "      <td>2000.0</td>\n",
              "      <td>0.057</td>\n",
              "      <td>27.0</td>\n",
              "      <td>11.0</td>\n",
              "      <td>431.0</td>\n",
              "    </tr>\n",
              "  </tbody>\n",
              "</table>\n",
              "</div>"
            ],
            "text/plain": [
              "   id  hour  hour_bef_temperature  ...  hour_bef_pm10  hour_bef_pm2.5  count\n",
              "0   3    20                  16.3  ...           76.0            33.0   49.0\n",
              "1   6    13                  20.1  ...           73.0            40.0  159.0\n",
              "2   7     6                  13.9  ...           32.0            19.0   26.0\n",
              "3   8    23                   8.1  ...           75.0            64.0   57.0\n",
              "4   9    18                  29.5  ...           27.0            11.0  431.0\n",
              "\n",
              "[5 rows x 11 columns]"
            ]
          },
          "metadata": {
            "tags": []
          },
          "execution_count": 3
        }
      ]
    },
    {
      "cell_type": "markdown",
      "metadata": {
        "id": "t-iXPmaZpIbx"
      },
      "source": [
        "> feature 살펴보기\n",
        "- id :날짜와 시간 별 id\n",
        "- hour : 시간\n",
        "- hour_bef_temperature : 1시간 전 기온\n",
        "- hour_bef_precipation : 1시간 전 비 정보, 비가 오지 않았으면 0, 비가 오면 1 => dummy!\n",
        "- hour_bef_windspeed : 1시간 전 풍속(평균)\n",
        "- hour_bef_humidity : 1시간 전 습도\n",
        "- hour_bef_visibility : 1시간 전 시정(視程), 시계(視界)(특정 기상 상태에 따른 가시성을 의미)\n",
        "- hour_bef_ozone : 1시간 전 오존\n",
        "- hour_bef_pm10 : 미세먼지(머리카락 굵기의 1/5에서 1/7 크기의 미세먼지)\n",
        "- hour_bef_pm2.5 : 미세먼지(머리카락 굵기의 1/20에서 1/30 크기의 미세먼지)\n",
        "- count : 시간에 따른 따릉이 대여 수"
      ]
    },
    {
      "cell_type": "code",
      "metadata": {
        "colab": {
          "base_uri": "https://localhost:8080/"
        },
        "id": "9NqYyLpGqw-I",
        "outputId": "ba30bfab-c577-4b00-cd49-c1cc950ad098"
      },
      "source": [
        "train.shape"
      ],
      "execution_count": null,
      "outputs": [
        {
          "output_type": "execute_result",
          "data": {
            "text/plain": [
              "(1459, 11)"
            ]
          },
          "metadata": {
            "tags": []
          },
          "execution_count": 7
        }
      ]
    },
    {
      "cell_type": "code",
      "metadata": {
        "colab": {
          "base_uri": "https://localhost:8080/"
        },
        "id": "HFh-mKLKpArg",
        "outputId": "51f117bb-4cde-4ebc-c232-47e89c8f21f2"
      },
      "source": [
        "train.info()"
      ],
      "execution_count": null,
      "outputs": [
        {
          "output_type": "stream",
          "text": [
            "<class 'pandas.core.frame.DataFrame'>\n",
            "RangeIndex: 1459 entries, 0 to 1458\n",
            "Data columns (total 11 columns):\n",
            " #   Column                  Non-Null Count  Dtype  \n",
            "---  ------                  --------------  -----  \n",
            " 0   id                      1459 non-null   int64  \n",
            " 1   hour                    1459 non-null   int64  \n",
            " 2   hour_bef_temperature    1457 non-null   float64\n",
            " 3   hour_bef_precipitation  1457 non-null   float64\n",
            " 4   hour_bef_windspeed      1450 non-null   float64\n",
            " 5   hour_bef_humidity       1457 non-null   float64\n",
            " 6   hour_bef_visibility     1457 non-null   float64\n",
            " 7   hour_bef_ozone          1383 non-null   float64\n",
            " 8   hour_bef_pm10           1369 non-null   float64\n",
            " 9   hour_bef_pm2.5          1342 non-null   float64\n",
            " 10  count                   1459 non-null   float64\n",
            "dtypes: float64(9), int64(2)\n",
            "memory usage: 125.5 KB\n"
          ],
          "name": "stdout"
        }
      ]
    },
    {
      "cell_type": "markdown",
      "metadata": {
        "id": "O1bGYfD7m42_"
      },
      "source": [
        "- 모두 숫자형 자료 ! \n",
        "- 문자열을 숫자형으로 변환 작업 필요 x\n"
      ]
    },
    {
      "cell_type": "code",
      "metadata": {
        "colab": {
          "base_uri": "https://localhost:8080/",
          "height": 316
        },
        "id": "4OyJOXV1DZsa",
        "outputId": "c11ba0b9-63d9-4641-a7fb-08f9e241a24b"
      },
      "source": [
        "train.describe()"
      ],
      "execution_count": null,
      "outputs": [
        {
          "output_type": "execute_result",
          "data": {
            "text/html": [
              "<div>\n",
              "<style scoped>\n",
              "    .dataframe tbody tr th:only-of-type {\n",
              "        vertical-align: middle;\n",
              "    }\n",
              "\n",
              "    .dataframe tbody tr th {\n",
              "        vertical-align: top;\n",
              "    }\n",
              "\n",
              "    .dataframe thead th {\n",
              "        text-align: right;\n",
              "    }\n",
              "</style>\n",
              "<table border=\"1\" class=\"dataframe\">\n",
              "  <thead>\n",
              "    <tr style=\"text-align: right;\">\n",
              "      <th></th>\n",
              "      <th>id</th>\n",
              "      <th>hour</th>\n",
              "      <th>hour_bef_temperature</th>\n",
              "      <th>hour_bef_precipitation</th>\n",
              "      <th>hour_bef_windspeed</th>\n",
              "      <th>hour_bef_humidity</th>\n",
              "      <th>hour_bef_visibility</th>\n",
              "      <th>hour_bef_ozone</th>\n",
              "      <th>hour_bef_pm10</th>\n",
              "      <th>hour_bef_pm2.5</th>\n",
              "      <th>count</th>\n",
              "    </tr>\n",
              "  </thead>\n",
              "  <tbody>\n",
              "    <tr>\n",
              "      <th>count</th>\n",
              "      <td>1459.000000</td>\n",
              "      <td>1459.000000</td>\n",
              "      <td>1457.000000</td>\n",
              "      <td>1457.000000</td>\n",
              "      <td>1450.000000</td>\n",
              "      <td>1457.000000</td>\n",
              "      <td>1457.000000</td>\n",
              "      <td>1383.000000</td>\n",
              "      <td>1369.000000</td>\n",
              "      <td>1342.000000</td>\n",
              "      <td>1459.000000</td>\n",
              "    </tr>\n",
              "    <tr>\n",
              "      <th>mean</th>\n",
              "      <td>1105.914325</td>\n",
              "      <td>11.493489</td>\n",
              "      <td>16.717433</td>\n",
              "      <td>0.031572</td>\n",
              "      <td>2.479034</td>\n",
              "      <td>52.231297</td>\n",
              "      <td>1405.216884</td>\n",
              "      <td>0.039149</td>\n",
              "      <td>57.168736</td>\n",
              "      <td>30.327124</td>\n",
              "      <td>108.563400</td>\n",
              "    </tr>\n",
              "    <tr>\n",
              "      <th>std</th>\n",
              "      <td>631.338681</td>\n",
              "      <td>6.922790</td>\n",
              "      <td>5.239150</td>\n",
              "      <td>0.174917</td>\n",
              "      <td>1.378265</td>\n",
              "      <td>20.370387</td>\n",
              "      <td>583.131708</td>\n",
              "      <td>0.019509</td>\n",
              "      <td>31.771019</td>\n",
              "      <td>14.713252</td>\n",
              "      <td>82.631733</td>\n",
              "    </tr>\n",
              "    <tr>\n",
              "      <th>min</th>\n",
              "      <td>3.000000</td>\n",
              "      <td>0.000000</td>\n",
              "      <td>3.100000</td>\n",
              "      <td>0.000000</td>\n",
              "      <td>0.000000</td>\n",
              "      <td>7.000000</td>\n",
              "      <td>78.000000</td>\n",
              "      <td>0.003000</td>\n",
              "      <td>9.000000</td>\n",
              "      <td>8.000000</td>\n",
              "      <td>1.000000</td>\n",
              "    </tr>\n",
              "    <tr>\n",
              "      <th>25%</th>\n",
              "      <td>555.500000</td>\n",
              "      <td>5.500000</td>\n",
              "      <td>12.800000</td>\n",
              "      <td>0.000000</td>\n",
              "      <td>1.400000</td>\n",
              "      <td>36.000000</td>\n",
              "      <td>879.000000</td>\n",
              "      <td>0.025500</td>\n",
              "      <td>36.000000</td>\n",
              "      <td>20.000000</td>\n",
              "      <td>37.000000</td>\n",
              "    </tr>\n",
              "    <tr>\n",
              "      <th>50%</th>\n",
              "      <td>1115.000000</td>\n",
              "      <td>11.000000</td>\n",
              "      <td>16.600000</td>\n",
              "      <td>0.000000</td>\n",
              "      <td>2.300000</td>\n",
              "      <td>51.000000</td>\n",
              "      <td>1577.000000</td>\n",
              "      <td>0.039000</td>\n",
              "      <td>51.000000</td>\n",
              "      <td>26.000000</td>\n",
              "      <td>96.000000</td>\n",
              "    </tr>\n",
              "    <tr>\n",
              "      <th>75%</th>\n",
              "      <td>1651.000000</td>\n",
              "      <td>17.500000</td>\n",
              "      <td>20.100000</td>\n",
              "      <td>0.000000</td>\n",
              "      <td>3.400000</td>\n",
              "      <td>69.000000</td>\n",
              "      <td>1994.000000</td>\n",
              "      <td>0.052000</td>\n",
              "      <td>69.000000</td>\n",
              "      <td>37.000000</td>\n",
              "      <td>150.000000</td>\n",
              "    </tr>\n",
              "    <tr>\n",
              "      <th>max</th>\n",
              "      <td>2179.000000</td>\n",
              "      <td>23.000000</td>\n",
              "      <td>30.000000</td>\n",
              "      <td>1.000000</td>\n",
              "      <td>8.000000</td>\n",
              "      <td>99.000000</td>\n",
              "      <td>2000.000000</td>\n",
              "      <td>0.125000</td>\n",
              "      <td>269.000000</td>\n",
              "      <td>90.000000</td>\n",
              "      <td>431.000000</td>\n",
              "    </tr>\n",
              "  </tbody>\n",
              "</table>\n",
              "</div>"
            ],
            "text/plain": [
              "                id         hour  ...  hour_bef_pm2.5        count\n",
              "count  1459.000000  1459.000000  ...     1342.000000  1459.000000\n",
              "mean   1105.914325    11.493489  ...       30.327124   108.563400\n",
              "std     631.338681     6.922790  ...       14.713252    82.631733\n",
              "min       3.000000     0.000000  ...        8.000000     1.000000\n",
              "25%     555.500000     5.500000  ...       20.000000    37.000000\n",
              "50%    1115.000000    11.000000  ...       26.000000    96.000000\n",
              "75%    1651.000000    17.500000  ...       37.000000   150.000000\n",
              "max    2179.000000    23.000000  ...       90.000000   431.000000\n",
              "\n",
              "[8 rows x 11 columns]"
            ]
          },
          "metadata": {
            "tags": []
          },
          "execution_count": 5
        }
      ]
    },
    {
      "cell_type": "code",
      "metadata": {
        "colab": {
          "base_uri": "https://localhost:8080/"
        },
        "id": "D5rBXt_UsXmf",
        "outputId": "5a01cf5a-6970-4a37-ee8f-1b40b5b7f6fb"
      },
      "source": [
        "# missing value 확인\n",
        "np.sum(pd.isnull(train)).sum()"
      ],
      "execution_count": null,
      "outputs": [
        {
          "output_type": "execute_result",
          "data": {
            "text/plain": [
              "300"
            ]
          },
          "metadata": {
            "tags": []
          },
          "execution_count": 13
        }
      ]
    },
    {
      "cell_type": "code",
      "metadata": {
        "colab": {
          "base_uri": "https://localhost:8080/"
        },
        "id": "CI-G8VsaN5Kk",
        "outputId": "e2f47667-4f9e-47f4-9af1-e1756478b200"
      },
      "source": [
        "train.isna().sum()"
      ],
      "execution_count": null,
      "outputs": [
        {
          "output_type": "execute_result",
          "data": {
            "text/plain": [
              "id                          0\n",
              "hour                        0\n",
              "hour_bef_temperature        2\n",
              "hour_bef_precipitation      2\n",
              "hour_bef_windspeed          9\n",
              "hour_bef_humidity           2\n",
              "hour_bef_visibility         2\n",
              "hour_bef_ozone             76\n",
              "hour_bef_pm10              90\n",
              "hour_bef_pm2.5            117\n",
              "count                       0\n",
              "dtype: int64"
            ]
          },
          "metadata": {
            "tags": []
          },
          "execution_count": 3
        }
      ]
    },
    {
      "cell_type": "markdown",
      "metadata": {
        "id": "nTIY6mh-r_t2"
      },
      "source": [
        "- null 값 제거 필요"
      ]
    },
    {
      "cell_type": "code",
      "metadata": {
        "colab": {
          "base_uri": "https://localhost:8080/",
          "height": 603
        },
        "id": "QMpggR5zNPHz",
        "outputId": "141e3f0d-5720-4717-a247-fba900169d29"
      },
      "source": [
        "# 히트맵 \n",
        "# correlations with the MEDV\n",
        "plt.figure(figsize=(20, 10))\n",
        "correlation_matrix = train.corr().round(2)\n",
        "sns.heatmap(data=correlation_matrix, annot=True)"
      ],
      "execution_count": null,
      "outputs": [
        {
          "output_type": "execute_result",
          "data": {
            "text/plain": [
              "<matplotlib.axes._subplots.AxesSubplot at 0x7f63ec2ff3d0>"
            ]
          },
          "metadata": {
            "tags": []
          },
          "execution_count": 20
        },
        {
          "output_type": "display_data",
          "data": {
            "image/png": "[encoded data removed]",
            "text/plain": [
              "<Figure size 1440x720 with 2 Axes>"
            ]
          },
          "metadata": {
            "tags": [],
            "needs_background": "light"
          }
        }
      ]
    },
    {
      "cell_type": "markdown",
      "metadata": {
        "id": "c6o9ey5mdqRm"
      },
      "source": [
        "# 1. 전처리"
      ]
    },
    {
      "cell_type": "markdown",
      "metadata": {
        "id": "W11IfV4ICPQz"
      },
      "source": [
        "## * 결측치 제거 "
      ]
    },
    {
      "cell_type": "markdown",
      "metadata": {
        "id": "yKbAnRAnd1JM"
      },
      "source": [
        "- figure out why the data is missing\n",
        ":  It can be a frustrating part of data science, especially if you're newer to the field and don't have a lot of experience. For dealing with missing values, you'll need to use your intution to figure out why the value is missing."
      ]
    },
    {
      "cell_type": "code",
      "metadata": {
        "colab": {
          "base_uri": "https://localhost:8080/"
        },
        "id": "cttjfEnjOD5D",
        "outputId": "d3ce7515-1689-4182-ee6a-e5e730e7619c"
      },
      "source": [
        "train.isna().sum()"
      ],
      "execution_count": null,
      "outputs": [
        {
          "output_type": "execute_result",
          "data": {
            "text/plain": [
              "id                          0\n",
              "hour                        0\n",
              "hour_bef_temperature        2\n",
              "hour_bef_precipitation      2\n",
              "hour_bef_windspeed          9\n",
              "hour_bef_humidity           2\n",
              "hour_bef_visibility         2\n",
              "hour_bef_ozone             76\n",
              "hour_bef_pm10              90\n",
              "hour_bef_pm2.5            117\n",
              "count                       0\n",
              "dtype: int64"
            ]
          },
          "metadata": {
            "tags": []
          },
          "execution_count": 23
        }
      ]
    },
    {
      "cell_type": "code",
      "metadata": {
        "colab": {
          "base_uri": "https://localhost:8080/",
          "height": 515
        },
        "id": "rYyBEtKFYdE5",
        "outputId": "00e0e0f5-842e-48db-e352-fdd4289eed90"
      },
      "source": [
        "total = train.isna().sum().sort_values(ascending=False)\n",
        "percent = (train.isna().sum()/train.isna().sum().sum()).sort_values(ascending=False)\n",
        "missing_data = pd.concat([total, percent], axis=1, keys=['Total', 'Percent'])\n",
        "percent_data = percent.head(20)\n",
        "percent_data.plot(kind=\"bar\", figsize = (8,6), fontsize = 10)\n",
        "plt.xlabel(\"\", fontsize = 20)\n",
        "plt.ylabel(\"\", fontsize = 20)\n",
        "plt.title(\"Total Missing Value (%)\", fontsize = 20)"
      ],
      "execution_count": null,
      "outputs": [
        {
          "output_type": "execute_result",
          "data": {
            "text/plain": [
              "Text(0.5, 1.0, 'Total Missing Value (%)')"
            ]
          },
          "metadata": {
            "tags": []
          },
          "execution_count": 14
        },
        {
          "output_type": "display_data",
          "data": {
            "image/png": "[encoded data removed]",
            "text/plain": [
              "<Figure size 576x432 with 1 Axes>"
            ]
          },
          "metadata": {
            "tags": [],
            "needs_background": "light"
          }
        }
      ]
    },
    {
      "cell_type": "markdown",
      "metadata": {
        "id": "ySFzVzAceB-s"
      },
      "source": [
        "- 결측값 비중 순서"
      ]
    },
    {
      "cell_type": "code",
      "metadata": {
        "colab": {
          "base_uri": "https://localhost:8080/",
          "height": 542
        },
        "id": "w0Fc4nj6XofB",
        "outputId": "2aa49cd1-e7d8-4841-acd8-ea68b1b8dd6d"
      },
      "source": [
        "# 결측치간 correlation\n",
        "import missingno as msno\n",
        "missingdata_df = train.columns[train.isnull().any()].tolist()\n",
        "msno.heatmap(train[missingdata_df], figsize=(8,6))\n",
        "plt.title(\"Correlation with Missing Values\", fontsize = 20)"
      ],
      "execution_count": null,
      "outputs": [
        {
          "output_type": "execute_result",
          "data": {
            "text/plain": [
              "Text(0.5, 1.0, 'Correlation with Missing Values')"
            ]
          },
          "metadata": {
            "tags": []
          },
          "execution_count": 4
        },
        {
          "output_type": "display_data",
          "data": {
            "image/png": "[encoded data removed]",
            "text/plain": [
              "<Figure size 576x432 with 2 Axes>"
            ]
          },
          "metadata": {
            "tags": [],
            "needs_background": "light"
          }
        }
      ]
    },
    {
      "cell_type": "markdown",
      "metadata": {
        "id": "40_J5RgueF3-"
      },
      "source": [
        "- missing vlaue의 유형을 MCAR/MAR/MNAR로 구분\n",
        "- 그래서 매트릭스 그려서 어디서 결측값 발생하고 있는지 봐보겠음 ! "
      ]
    },
    {
      "cell_type": "code",
      "metadata": {
        "colab": {
          "base_uri": "https://localhost:8080/",
          "height": 750
        },
        "id": "sdRKujKrdif_",
        "outputId": "2af92e55-f2e8-483e-ce9b-ee12c98cb76e"
      },
      "source": [
        "msno.matrix(train)"
      ],
      "execution_count": null,
      "outputs": [
        {
          "output_type": "execute_result",
          "data": {
            "text/plain": [
              "<matplotlib.axes._subplots.AxesSubplot at 0x7f9a48da8f50>"
            ]
          },
          "metadata": {
            "tags": []
          },
          "execution_count": 5
        },
        {
          "output_type": "display_data",
          "data": {
            "image/png": "[encoded data removed]",
            "text/plain": [
              "<Figure size 1800x720 with 2 Axes>"
            ]
          },
          "metadata": {
            "tags": [],
            "needs_background": "light"
          }
        }
      ]
    },
    {
      "cell_type": "markdown",
      "metadata": {
        "id": "daMAgDCZenyk"
      },
      "source": [
        "## [1] hour_bef_temperature/ hour_bef_precipitation/ hour_bef_humidity/ hour_bef_visibility:결측값 2개 => DROP"
      ]
    },
    {
      "cell_type": "code",
      "metadata": {
        "colab": {
          "base_uri": "https://localhost:8080/",
          "height": 111
        },
        "id": "m8v7etW4ON5S",
        "outputId": "005c49b3-65ca-4c15-9783-816a274237d0"
      },
      "source": [
        "train[train['hour_bef_temperature'].isna()]  # temperature 결측값 위치"
      ],
      "execution_count": null,
      "outputs": [
        {
          "output_type": "execute_result",
          "data": {
            "text/html": [
              "<div>\n",
              "<style scoped>\n",
              "    .dataframe tbody tr th:only-of-type {\n",
              "        vertical-align: middle;\n",
              "    }\n",
              "\n",
              "    .dataframe tbody tr th {\n",
              "        vertical-align: top;\n",
              "    }\n",
              "\n",
              "    .dataframe thead th {\n",
              "        text-align: right;\n",
              "    }\n",
              "</style>\n",
              "<table border=\"1\" class=\"dataframe\">\n",
              "  <thead>\n",
              "    <tr style=\"text-align: right;\">\n",
              "      <th></th>\n",
              "      <th>id</th>\n",
              "      <th>hour</th>\n",
              "      <th>hour_bef_temperature</th>\n",
              "      <th>hour_bef_precipitation</th>\n",
              "      <th>hour_bef_windspeed</th>\n",
              "      <th>hour_bef_humidity</th>\n",
              "      <th>hour_bef_visibility</th>\n",
              "      <th>hour_bef_ozone</th>\n",
              "      <th>hour_bef_pm10</th>\n",
              "      <th>hour_bef_pm2.5</th>\n",
              "      <th>count</th>\n",
              "    </tr>\n",
              "  </thead>\n",
              "  <tbody>\n",
              "    <tr>\n",
              "      <th>934</th>\n",
              "      <td>1420</td>\n",
              "      <td>0</td>\n",
              "      <td>NaN</td>\n",
              "      <td>NaN</td>\n",
              "      <td>NaN</td>\n",
              "      <td>NaN</td>\n",
              "      <td>NaN</td>\n",
              "      <td>NaN</td>\n",
              "      <td>NaN</td>\n",
              "      <td>NaN</td>\n",
              "      <td>39.0</td>\n",
              "    </tr>\n",
              "    <tr>\n",
              "      <th>1035</th>\n",
              "      <td>1553</td>\n",
              "      <td>18</td>\n",
              "      <td>NaN</td>\n",
              "      <td>NaN</td>\n",
              "      <td>NaN</td>\n",
              "      <td>NaN</td>\n",
              "      <td>NaN</td>\n",
              "      <td>NaN</td>\n",
              "      <td>NaN</td>\n",
              "      <td>NaN</td>\n",
              "      <td>1.0</td>\n",
              "    </tr>\n",
              "  </tbody>\n",
              "</table>\n",
              "</div>"
            ],
            "text/plain": [
              "        id  hour  hour_bef_temperature  ...  hour_bef_pm10  hour_bef_pm2.5  count\n",
              "934   1420     0                   NaN  ...            NaN             NaN   39.0\n",
              "1035  1553    18                   NaN  ...            NaN             NaN    1.0\n",
              "\n",
              "[2 rows x 11 columns]"
            ]
          },
          "metadata": {
            "tags": []
          },
          "execution_count": 6
        }
      ]
    },
    {
      "cell_type": "markdown",
      "metadata": {
        "id": "ezNm7H7thwk9"
      },
      "source": [
        "- 이 경우 id와 hour, 그리고 count를 제외한 모든 피처들에서 동시에 누락되었으니, 굳이 imputation 필요 없다고 판단 -> drop"
      ]
    },
    {
      "cell_type": "code",
      "metadata": {
        "id": "HJloBUqhj1DV"
      },
      "source": [
        "# temperature drop\n",
        "train.dropna(subset=['hour_bef_temperature'], inplace=True)"
      ],
      "execution_count": null,
      "outputs": []
    },
    {
      "cell_type": "code",
      "metadata": {
        "colab": {
          "base_uri": "https://localhost:8080/"
        },
        "id": "K01fS8vkkQvz",
        "outputId": "58dcd86c-dd40-4008-a9e3-d7b4a034c39c"
      },
      "source": [
        "train.isna().sum()"
      ],
      "execution_count": null,
      "outputs": [
        {
          "output_type": "execute_result",
          "data": {
            "text/plain": [
              "id                          0\n",
              "hour                        0\n",
              "hour_bef_temperature        0\n",
              "hour_bef_precipitation      0\n",
              "hour_bef_windspeed          7\n",
              "hour_bef_humidity           0\n",
              "hour_bef_visibility         0\n",
              "hour_bef_ozone             74\n",
              "hour_bef_pm10              88\n",
              "hour_bef_pm2.5            115\n",
              "count                       0\n",
              "dtype: int64"
            ]
          },
          "metadata": {
            "tags": []
          },
          "execution_count": 8
        }
      ]
    },
    {
      "cell_type": "markdown",
      "metadata": {
        "id": "gD5NAPmHfGbq"
      },
      "source": [
        "## [2]  hour_bef_windspeed  -  결측값 7개 => DROP"
      ]
    },
    {
      "cell_type": "code",
      "metadata": {
        "colab": {
          "base_uri": "https://localhost:8080/",
          "height": 266
        },
        "id": "PXAoQQfQkV8h",
        "outputId": "a2b9fea3-334d-41e1-d4cc-cf3935d5c801"
      },
      "source": [
        "train[train['hour_bef_windspeed'].isna()]"
      ],
      "execution_count": null,
      "outputs": [
        {
          "output_type": "execute_result",
          "data": {
            "text/html": [
              "<div>\n",
              "<style scoped>\n",
              "    .dataframe tbody tr th:only-of-type {\n",
              "        vertical-align: middle;\n",
              "    }\n",
              "\n",
              "    .dataframe tbody tr th {\n",
              "        vertical-align: top;\n",
              "    }\n",
              "\n",
              "    .dataframe thead th {\n",
              "        text-align: right;\n",
              "    }\n",
              "</style>\n",
              "<table border=\"1\" class=\"dataframe\">\n",
              "  <thead>\n",
              "    <tr style=\"text-align: right;\">\n",
              "      <th></th>\n",
              "      <th>id</th>\n",
              "      <th>hour</th>\n",
              "      <th>hour_bef_temperature</th>\n",
              "      <th>hour_bef_precipitation</th>\n",
              "      <th>hour_bef_windspeed</th>\n",
              "      <th>hour_bef_humidity</th>\n",
              "      <th>hour_bef_visibility</th>\n",
              "      <th>hour_bef_ozone</th>\n",
              "      <th>hour_bef_pm10</th>\n",
              "      <th>hour_bef_pm2.5</th>\n",
              "      <th>count</th>\n",
              "    </tr>\n",
              "  </thead>\n",
              "  <tbody>\n",
              "    <tr>\n",
              "      <th>18</th>\n",
              "      <td>33</td>\n",
              "      <td>13</td>\n",
              "      <td>22.6</td>\n",
              "      <td>0.0</td>\n",
              "      <td>NaN</td>\n",
              "      <td>41.0</td>\n",
              "      <td>987.0</td>\n",
              "      <td>0.046</td>\n",
              "      <td>64.0</td>\n",
              "      <td>39.0</td>\n",
              "      <td>208.0</td>\n",
              "    </tr>\n",
              "    <tr>\n",
              "      <th>244</th>\n",
              "      <td>381</td>\n",
              "      <td>1</td>\n",
              "      <td>14.1</td>\n",
              "      <td>0.0</td>\n",
              "      <td>NaN</td>\n",
              "      <td>55.0</td>\n",
              "      <td>1992.0</td>\n",
              "      <td>NaN</td>\n",
              "      <td>NaN</td>\n",
              "      <td>NaN</td>\n",
              "      <td>38.0</td>\n",
              "    </tr>\n",
              "    <tr>\n",
              "      <th>260</th>\n",
              "      <td>404</td>\n",
              "      <td>3</td>\n",
              "      <td>14.0</td>\n",
              "      <td>0.0</td>\n",
              "      <td>NaN</td>\n",
              "      <td>50.0</td>\n",
              "      <td>2000.0</td>\n",
              "      <td>0.049</td>\n",
              "      <td>35.0</td>\n",
              "      <td>22.0</td>\n",
              "      <td>17.0</td>\n",
              "    </tr>\n",
              "    <tr>\n",
              "      <th>376</th>\n",
              "      <td>570</td>\n",
              "      <td>0</td>\n",
              "      <td>14.3</td>\n",
              "      <td>0.0</td>\n",
              "      <td>NaN</td>\n",
              "      <td>49.0</td>\n",
              "      <td>2000.0</td>\n",
              "      <td>0.044</td>\n",
              "      <td>37.0</td>\n",
              "      <td>20.0</td>\n",
              "      <td>58.0</td>\n",
              "    </tr>\n",
              "    <tr>\n",
              "      <th>780</th>\n",
              "      <td>1196</td>\n",
              "      <td>20</td>\n",
              "      <td>16.5</td>\n",
              "      <td>0.0</td>\n",
              "      <td>NaN</td>\n",
              "      <td>31.0</td>\n",
              "      <td>2000.0</td>\n",
              "      <td>0.058</td>\n",
              "      <td>39.0</td>\n",
              "      <td>18.0</td>\n",
              "      <td>181.0</td>\n",
              "    </tr>\n",
              "    <tr>\n",
              "      <th>1138</th>\n",
              "      <td>1717</td>\n",
              "      <td>12</td>\n",
              "      <td>21.4</td>\n",
              "      <td>0.0</td>\n",
              "      <td>NaN</td>\n",
              "      <td>44.0</td>\n",
              "      <td>1375.0</td>\n",
              "      <td>0.044</td>\n",
              "      <td>61.0</td>\n",
              "      <td>37.0</td>\n",
              "      <td>116.0</td>\n",
              "    </tr>\n",
              "    <tr>\n",
              "      <th>1229</th>\n",
              "      <td>1855</td>\n",
              "      <td>2</td>\n",
              "      <td>14.0</td>\n",
              "      <td>0.0</td>\n",
              "      <td>NaN</td>\n",
              "      <td>52.0</td>\n",
              "      <td>2000.0</td>\n",
              "      <td>0.044</td>\n",
              "      <td>37.0</td>\n",
              "      <td>20.0</td>\n",
              "      <td>20.0</td>\n",
              "    </tr>\n",
              "  </tbody>\n",
              "</table>\n",
              "</div>"
            ],
            "text/plain": [
              "        id  hour  hour_bef_temperature  ...  hour_bef_pm10  hour_bef_pm2.5  count\n",
              "18      33    13                  22.6  ...           64.0            39.0  208.0\n",
              "244    381     1                  14.1  ...            NaN             NaN   38.0\n",
              "260    404     3                  14.0  ...           35.0            22.0   17.0\n",
              "376    570     0                  14.3  ...           37.0            20.0   58.0\n",
              "780   1196    20                  16.5  ...           39.0            18.0  181.0\n",
              "1138  1717    12                  21.4  ...           61.0            37.0  116.0\n",
              "1229  1855     2                  14.0  ...           37.0            20.0   20.0\n",
              "\n",
              "[7 rows x 11 columns]"
            ]
          },
          "metadata": {
            "tags": []
          },
          "execution_count": 9
        }
      ]
    },
    {
      "cell_type": "code",
      "metadata": {
        "colab": {
          "base_uri": "https://localhost:8080/"
        },
        "id": "0gN7fgkuNbB1",
        "outputId": "0074a003-5283-4984-e330-570c183436b2"
      },
      "source": [
        "corr_matrix = train.corr().abs()\n",
        "corr_matrix[\"hour_bef_windspeed\"].sort_values(ascending=False)"
      ],
      "execution_count": null,
      "outputs": [
        {
          "output_type": "execute_result",
          "data": {
            "text/plain": [
              "hour_bef_windspeed        1.000000\n",
              "hour_bef_ozone            0.520526\n",
              "hour                      0.462797\n",
              "count                     0.459906\n",
              "hour_bef_humidity         0.433012\n",
              "hour_bef_temperature      0.375618\n",
              "hour_bef_visibility       0.252092\n",
              "hour_bef_pm2.5            0.199113\n",
              "hour_bef_precipitation    0.022746\n",
              "hour_bef_pm10             0.010176\n",
              "id                        0.003353\n",
              "Name: hour_bef_windspeed, dtype: float64"
            ]
          },
          "metadata": {
            "tags": []
          },
          "execution_count": 8
        }
      ]
    },
    {
      "cell_type": "code",
      "metadata": {
        "id": "-o8o6yson124"
      },
      "source": [
        "train.groupby(train['hour']).mean()['hour_bef_windspeed']"
      ],
      "execution_count": null,
      "outputs": []
    },
    {
      "cell_type": "code",
      "metadata": {
        "id": "xGn3Ny1AmxAh",
        "colab": {
          "base_uri": "https://localhost:8080/"
        },
        "outputId": "de6c992f-24ff-4aa7-a1da-be2dc54314d5"
      },
      "source": [
        "train[train['hour']==13].groupby(train['hour_bef_ozone']).mean()['hour_bef_windspeed'] # hour가 13인 ozone값 별 평균 windspeed "
      ],
      "execution_count": null,
      "outputs": [
        {
          "output_type": "execute_result",
          "data": {
            "text/plain": [
              "hour_bef_ozone\n",
              "0.011    3.200000\n",
              "0.018    1.300000\n",
              "0.020    2.500000\n",
              "0.022    1.400000\n",
              "0.025    2.600000\n",
              "0.030    2.800000\n",
              "0.032    1.800000\n",
              "0.034    2.100000\n",
              "0.035    1.700000\n",
              "0.036    2.300000\n",
              "0.037    3.300000\n",
              "0.038    3.400000\n",
              "0.039    2.700000\n",
              "0.040    3.200000\n",
              "0.041    1.800000\n",
              "0.042    2.666667\n",
              "0.043    3.650000\n",
              "0.044    4.850000\n",
              "0.045    2.075000\n",
              "0.046    4.675000\n",
              "0.047    3.250000\n",
              "0.051    3.500000\n",
              "0.052    2.800000\n",
              "0.053    5.066667\n",
              "0.055    4.200000\n",
              "0.056    4.200000\n",
              "0.057    3.700000\n",
              "0.060    3.800000\n",
              "0.061    4.100000\n",
              "0.063    2.900000\n",
              "0.064    2.550000\n",
              "0.065    2.900000\n",
              "0.067    3.700000\n",
              "0.069    3.700000\n",
              "Name: hour_bef_windspeed, dtype: float64"
            ]
          },
          "metadata": {
            "tags": []
          },
          "execution_count": 47
        }
      ]
    },
    {
      "cell_type": "code",
      "metadata": {
        "id": "duG_QFiavUnC"
      },
      "source": [
        "train[train['hour']== 3].groupby(train['hour_bef_ozone']).mean()['hour_bef_windspeed']"
      ],
      "execution_count": null,
      "outputs": []
    },
    {
      "cell_type": "code",
      "metadata": {
        "id": "_WbBUlxZvvXS"
      },
      "source": [
        "train[train['hour']== 0].groupby(train['hour_bef_ozone']).mean()['hour_bef_windspeed'] "
      ],
      "execution_count": null,
      "outputs": []
    },
    {
      "cell_type": "code",
      "metadata": {
        "id": "rLczRtuOpo5p"
      },
      "source": [
        "train['hour_bef_windspeed'].fillna({18:  4.675,  260:  0.9000 , 376:  3.800000 , 780:  4.7500  , 1138:  3.1000  , 1229: 0.50000 },inplace = True) # 각 시간대 & 오존 수치별의 평균속도로 -> 시간&오존의 경향성 반영"
      ],
      "execution_count": null,
      "outputs": []
    },
    {
      "cell_type": "markdown",
      "metadata": {
        "id": "lDVLUPOPdxoB"
      },
      "source": [
        "missing value가 7개로 적으니 drop 결정 "
      ]
    },
    {
      "cell_type": "code",
      "metadata": {
        "id": "fJ51Ztpld3Mu"
      },
      "source": [
        "# windspeed drop\n",
        "train.dropna(subset=['hour_bef_windspeed'], inplace=True)"
      ],
      "execution_count": null,
      "outputs": []
    },
    {
      "cell_type": "code",
      "metadata": {
        "colab": {
          "base_uri": "https://localhost:8080/"
        },
        "id": "Mvi6LISN1CM_",
        "outputId": "2bc541af-05cd-4b59-dfad-613faa1404e5"
      },
      "source": [
        "train.isna().sum()"
      ],
      "execution_count": null,
      "outputs": [
        {
          "output_type": "execute_result",
          "data": {
            "text/plain": [
              "id                          0\n",
              "hour                        0\n",
              "hour_bef_temperature        0\n",
              "hour_bef_precipitation      0\n",
              "hour_bef_windspeed          0\n",
              "hour_bef_humidity           0\n",
              "hour_bef_visibility         0\n",
              "hour_bef_ozone             73\n",
              "hour_bef_pm10              87\n",
              "hour_bef_pm2.5            114\n",
              "count                       0\n",
              "dtype: int64"
            ]
          },
          "metadata": {},
          "execution_count": 5
        }
      ]
    },
    {
      "cell_type": "markdown",
      "metadata": {
        "id": "dzgWOtvexO2o"
      },
      "source": [
        "## [3] hour_bef_ozone / hour_bef_pm10  / hour_bef_pm2.5  => KNN & MICE"
      ]
    },
    {
      "cell_type": "code",
      "metadata": {
        "colab": {
          "base_uri": "https://localhost:8080/",
          "height": 419
        },
        "id": "H-z5OavuoUDS",
        "outputId": "36c1e6cf-3ffb-49e9-9ce8-2457c64cde35"
      },
      "source": [
        "nan_ozone = train['hour_bef_ozone'].isna()\n",
        "nan_pm10 = train['hour_bef_pm10'].isna()\n",
        "nan_pm25 = train['hour_bef_pm2.5'].isna()\n",
        "\n",
        "sub = train[nan_ozone & nan_pm10 & nan_pm25]\n",
        "sub"
      ],
      "execution_count": null,
      "outputs": [
        {
          "output_type": "execute_result",
          "data": {
            "text/html": [
              "<div>\n",
              "<style scoped>\n",
              "    .dataframe tbody tr th:only-of-type {\n",
              "        vertical-align: middle;\n",
              "    }\n",
              "\n",
              "    .dataframe tbody tr th {\n",
              "        vertical-align: top;\n",
              "    }\n",
              "\n",
              "    .dataframe thead th {\n",
              "        text-align: right;\n",
              "    }\n",
              "</style>\n",
              "<table border=\"1\" class=\"dataframe\">\n",
              "  <thead>\n",
              "    <tr style=\"text-align: right;\">\n",
              "      <th></th>\n",
              "      <th>id</th>\n",
              "      <th>hour</th>\n",
              "      <th>hour_bef_temperature</th>\n",
              "      <th>hour_bef_precipitation</th>\n",
              "      <th>hour_bef_windspeed</th>\n",
              "      <th>hour_bef_humidity</th>\n",
              "      <th>hour_bef_visibility</th>\n",
              "      <th>hour_bef_ozone</th>\n",
              "      <th>hour_bef_pm10</th>\n",
              "      <th>hour_bef_pm2.5</th>\n",
              "      <th>count</th>\n",
              "    </tr>\n",
              "  </thead>\n",
              "  <tbody>\n",
              "    <tr>\n",
              "      <th>14</th>\n",
              "      <td>28</td>\n",
              "      <td>1</td>\n",
              "      <td>20.0</td>\n",
              "      <td>0.0</td>\n",
              "      <td>1.8</td>\n",
              "      <td>58.0</td>\n",
              "      <td>2000.0</td>\n",
              "      <td>NaN</td>\n",
              "      <td>NaN</td>\n",
              "      <td>NaN</td>\n",
              "      <td>74.0</td>\n",
              "    </tr>\n",
              "    <tr>\n",
              "      <th>46</th>\n",
              "      <td>78</td>\n",
              "      <td>1</td>\n",
              "      <td>12.2</td>\n",
              "      <td>0.0</td>\n",
              "      <td>3.0</td>\n",
              "      <td>49.0</td>\n",
              "      <td>1071.0</td>\n",
              "      <td>NaN</td>\n",
              "      <td>NaN</td>\n",
              "      <td>NaN</td>\n",
              "      <td>36.0</td>\n",
              "    </tr>\n",
              "    <tr>\n",
              "      <th>84</th>\n",
              "      <td>130</td>\n",
              "      <td>1</td>\n",
              "      <td>9.4</td>\n",
              "      <td>0.0</td>\n",
              "      <td>2.5</td>\n",
              "      <td>65.0</td>\n",
              "      <td>1907.0</td>\n",
              "      <td>NaN</td>\n",
              "      <td>NaN</td>\n",
              "      <td>NaN</td>\n",
              "      <td>39.0</td>\n",
              "    </tr>\n",
              "    <tr>\n",
              "      <th>140</th>\n",
              "      <td>206</td>\n",
              "      <td>10</td>\n",
              "      <td>18.2</td>\n",
              "      <td>0.0</td>\n",
              "      <td>2.4</td>\n",
              "      <td>60.0</td>\n",
              "      <td>527.0</td>\n",
              "      <td>NaN</td>\n",
              "      <td>NaN</td>\n",
              "      <td>NaN</td>\n",
              "      <td>66.0</td>\n",
              "    </tr>\n",
              "    <tr>\n",
              "      <th>142</th>\n",
              "      <td>208</td>\n",
              "      <td>1</td>\n",
              "      <td>18.8</td>\n",
              "      <td>0.0</td>\n",
              "      <td>1.1</td>\n",
              "      <td>61.0</td>\n",
              "      <td>2000.0</td>\n",
              "      <td>NaN</td>\n",
              "      <td>NaN</td>\n",
              "      <td>NaN</td>\n",
              "      <td>62.0</td>\n",
              "    </tr>\n",
              "    <tr>\n",
              "      <th>...</th>\n",
              "      <td>...</td>\n",
              "      <td>...</td>\n",
              "      <td>...</td>\n",
              "      <td>...</td>\n",
              "      <td>...</td>\n",
              "      <td>...</td>\n",
              "      <td>...</td>\n",
              "      <td>...</td>\n",
              "      <td>...</td>\n",
              "      <td>...</td>\n",
              "      <td>...</td>\n",
              "    </tr>\n",
              "    <tr>\n",
              "      <th>1283</th>\n",
              "      <td>1941</td>\n",
              "      <td>1</td>\n",
              "      <td>16.6</td>\n",
              "      <td>0.0</td>\n",
              "      <td>2.1</td>\n",
              "      <td>35.0</td>\n",
              "      <td>2000.0</td>\n",
              "      <td>NaN</td>\n",
              "      <td>NaN</td>\n",
              "      <td>NaN</td>\n",
              "      <td>62.0</td>\n",
              "    </tr>\n",
              "    <tr>\n",
              "      <th>1322</th>\n",
              "      <td>1994</td>\n",
              "      <td>1</td>\n",
              "      <td>15.1</td>\n",
              "      <td>0.0</td>\n",
              "      <td>1.3</td>\n",
              "      <td>35.0</td>\n",
              "      <td>2000.0</td>\n",
              "      <td>NaN</td>\n",
              "      <td>NaN</td>\n",
              "      <td>NaN</td>\n",
              "      <td>40.0</td>\n",
              "    </tr>\n",
              "    <tr>\n",
              "      <th>1329</th>\n",
              "      <td>2005</td>\n",
              "      <td>1</td>\n",
              "      <td>17.7</td>\n",
              "      <td>0.0</td>\n",
              "      <td>1.0</td>\n",
              "      <td>43.0</td>\n",
              "      <td>1338.0</td>\n",
              "      <td>NaN</td>\n",
              "      <td>NaN</td>\n",
              "      <td>NaN</td>\n",
              "      <td>69.0</td>\n",
              "    </tr>\n",
              "    <tr>\n",
              "      <th>1361</th>\n",
              "      <td>2047</td>\n",
              "      <td>1</td>\n",
              "      <td>12.6</td>\n",
              "      <td>0.0</td>\n",
              "      <td>2.4</td>\n",
              "      <td>48.0</td>\n",
              "      <td>1805.0</td>\n",
              "      <td>NaN</td>\n",
              "      <td>NaN</td>\n",
              "      <td>NaN</td>\n",
              "      <td>43.0</td>\n",
              "    </tr>\n",
              "    <tr>\n",
              "      <th>1391</th>\n",
              "      <td>2086</td>\n",
              "      <td>1</td>\n",
              "      <td>11.5</td>\n",
              "      <td>0.0</td>\n",
              "      <td>3.2</td>\n",
              "      <td>23.0</td>\n",
              "      <td>2000.0</td>\n",
              "      <td>NaN</td>\n",
              "      <td>NaN</td>\n",
              "      <td>NaN</td>\n",
              "      <td>42.0</td>\n",
              "    </tr>\n",
              "  </tbody>\n",
              "</table>\n",
              "<p>66 rows × 11 columns</p>\n",
              "</div>"
            ],
            "text/plain": [
              "        id  hour  hour_bef_temperature  ...  hour_bef_pm10  hour_bef_pm2.5  count\n",
              "14      28     1                  20.0  ...            NaN             NaN   74.0\n",
              "46      78     1                  12.2  ...            NaN             NaN   36.0\n",
              "84     130     1                   9.4  ...            NaN             NaN   39.0\n",
              "140    206    10                  18.2  ...            NaN             NaN   66.0\n",
              "142    208     1                  18.8  ...            NaN             NaN   62.0\n",
              "...    ...   ...                   ...  ...            ...             ...    ...\n",
              "1283  1941     1                  16.6  ...            NaN             NaN   62.0\n",
              "1322  1994     1                  15.1  ...            NaN             NaN   40.0\n",
              "1329  2005     1                  17.7  ...            NaN             NaN   69.0\n",
              "1361  2047     1                  12.6  ...            NaN             NaN   43.0\n",
              "1391  2086     1                  11.5  ...            NaN             NaN   42.0\n",
              "\n",
              "[66 rows x 11 columns]"
            ]
          },
          "metadata": {
            "tags": []
          },
          "execution_count": 86
        }
      ]
    },
    {
      "cell_type": "code",
      "metadata": {
        "colab": {
          "base_uri": "https://localhost:8080/"
        },
        "id": "qqwKsA4mdboB",
        "outputId": "5f24b0e0-649a-44e5-c177-ef92e5609b90"
      },
      "source": [
        "len(train[train['hour']==1]) # hour =1 인 row 60행"
      ],
      "execution_count": null,
      "outputs": [
        {
          "output_type": "execute_result",
          "data": {
            "text/plain": [
              "60"
            ]
          },
          "metadata": {},
          "execution_count": 6
        }
      ]
    },
    {
      "cell_type": "code",
      "metadata": {
        "colab": {
          "base_uri": "https://localhost:8080/"
        },
        "id": "EOL74EQGiJCy",
        "outputId": "9fc6a6ff-c586-4897-cf6f-acee281a4472"
      },
      "source": [
        "hour1 = train['hour']== 1\n",
        "len(train[hour1 & nan_ozone & nan_pm10 & nan_pm25 ]) #hour=1 동시에 ozone,pm10,pm2.5 missing 인 row도 60행"
      ],
      "execution_count": null,
      "outputs": [
        {
          "output_type": "execute_result",
          "data": {
            "text/plain": [
              "60"
            ]
          },
          "metadata": {
            "tags": []
          },
          "execution_count": 113
        }
      ]
    },
    {
      "cell_type": "code",
      "metadata": {
        "colab": {
          "base_uri": "https://localhost:8080/"
        },
        "id": "JGr4ntmDfu33",
        "outputId": "b92e1e35-1244-4f1b-e469-4bacdbaf5d57"
      },
      "source": [
        "train[train['hour']== 1].isna().sum()"
      ],
      "execution_count": null,
      "outputs": [
        {
          "output_type": "execute_result",
          "data": {
            "text/plain": [
              "id                         0\n",
              "hour                       0\n",
              "hour_bef_temperature       0\n",
              "hour_bef_precipitation     0\n",
              "hour_bef_windspeed         0\n",
              "hour_bef_humidity          0\n",
              "hour_bef_visibility        0\n",
              "hour_bef_ozone            60\n",
              "hour_bef_pm10             60\n",
              "hour_bef_pm2.5            60\n",
              "count                      0\n",
              "dtype: int64"
            ]
          },
          "metadata": {
            "tags": []
          },
          "execution_count": 82
        }
      ]
    },
    {
      "cell_type": "markdown",
      "metadata": {
        "id": "eCV2y-Jt_QDF"
      },
      "source": [
        "- hour =1 인 행에서 ozone, pm10 , pm2.5 missing"
      ]
    },
    {
      "cell_type": "markdown",
      "metadata": {
        "id": "FP9LNibm_P92"
      },
      "source": []
    },
    {
      "cell_type": "markdown",
      "metadata": {
        "id": "f830fh51j-u8"
      },
      "source": [
        "## [3]-1 새벽 1시 데이터 row 삭제"
      ]
    },
    {
      "cell_type": "code",
      "metadata": {
        "id": "deiEMvOkAANV"
      },
      "source": [
        "# hour 1 제외\n",
        "df_out = train[train['hour']!= 1]\n",
        "df_out = pd.DataFrame(df_out, columns=train.columns)"
      ],
      "execution_count": null,
      "outputs": []
    },
    {
      "cell_type": "code",
      "metadata": {
        "colab": {
          "base_uri": "https://localhost:8080/"
        },
        "id": "9WHEvET2BOm0",
        "outputId": "9c5ada12-4e3f-412a-9340-205b7cc54526"
      },
      "source": [
        "df_out.isna().sum()"
      ],
      "execution_count": null,
      "outputs": [
        {
          "output_type": "execute_result",
          "data": {
            "text/plain": [
              "id                         0\n",
              "hour                       0\n",
              "hour_bef_temperature       0\n",
              "hour_bef_precipitation     0\n",
              "hour_bef_windspeed         0\n",
              "hour_bef_humidity          0\n",
              "hour_bef_visibility        0\n",
              "hour_bef_ozone            13\n",
              "hour_bef_pm10             27\n",
              "hour_bef_pm2.5            54\n",
              "count                      0\n",
              "dtype: int64"
            ]
          },
          "metadata": {
            "tags": []
          },
          "execution_count": 6
        }
      ]
    },
    {
      "cell_type": "markdown",
      "metadata": {
        "id": "fCrQ_Eh3wS37"
      },
      "source": [
        "# KNN imputation"
      ]
    },
    {
      "cell_type": "markdown",
      "metadata": {
        "id": "STScNhYXLwDb"
      },
      "source": [
        "knn imputaiton\n",
        "각 결측값은 데이터 셋 속의 n_neighbors 가장 가까운 이웃의 가중 평균값을 사용하여 대치된다. "
      ]
    },
    {
      "cell_type": "markdown",
      "metadata": {
        "id": "OLuwdWNPL3nS"
      },
      "source": [
        "참고 : https://towardsdatascience.com/6-different-ways-to-compensate-for-missing-values-data-imputation-with-examples-6022d9ca0779 "
      ]
    },
    {
      "cell_type": "code",
      "metadata": {
        "id": "LWOdgPdoJ1Up"
      },
      "source": [
        "pip install -U scikit-learn"
      ],
      "execution_count": null,
      "outputs": []
    },
    {
      "cell_type": "code",
      "metadata": {
        "id": "ZDSOAvgDIVZl"
      },
      "source": [
        "from sklearn.model_selection import train_test_split\n",
        "from sklearn.ensemble import RandomForestRegressor\n",
        "from sklearn.metrics import mean_squared_error\n",
        "from sklearn.impute import KNNImputer\n",
        "from sklearn.preprocessing import StandardScaler\n",
        "from sklearn.preprocessing import MinMaxScaler\n",
        "\n",
        "rmse = lambda y, yhat: np.sqrt(mean_squared_error(y, yhat))\n",
        "\n",
        "def optimize_k(data, target):\n",
        "    errors = []\n",
        "    num = []\n",
        "    for k in range(1, 20, 2):\n",
        "        minMaxScaler = MinMaxScaler()\n",
        "        minMaxScaler.fit(data)\n",
        "        data_minMaxScaled = minMaxScaler.transform(data)\n",
        "        imputer = KNNImputer(n_neighbors=k)\n",
        "        imputed = imputer.fit_transform(data_minMaxScaled)\n",
        "        data_imputed = pd.DataFrame(imputed, columns=data.columns)\n",
        "        \n",
        "        X = data_imputed.drop(target, axis=1)\n",
        "        y = data_imputed[target]\n",
        "        X_train, X_test, y_train, y_test = train_test_split(X, y, test_size=0.2, random_state=42)\n",
        "\n",
        "        model = RandomForestRegressor(random_state=0)\n",
        "        model.fit(X_train, y_train)\n",
        "        preds = model.predict(X_test)\n",
        "        error = rmse(y_test, preds)\n",
        "        errors.append(error)\n",
        "        num.append(k)\n",
        "\n",
        "    df = pd.DataFrame({'K' : num, 'RMSE' : errors}) \n",
        "    df = df.sort_values('RMSE', ascending = True)    \n",
        "    return df"
      ],
      "execution_count": null,
      "outputs": []
    },
    {
      "cell_type": "code",
      "metadata": {
        "colab": {
          "base_uri": "https://localhost:8080/",
          "height": 359
        },
        "id": "TdWuGiKXEJHi",
        "outputId": "8c7f123f-6ee6-4d4d-9281-267b93c4f201"
      },
      "source": [
        "opt_1= optimize_k(df_out,'count')\n",
        "opt_1 # n_neighbors = 9(최적)"
      ],
      "execution_count": null,
      "outputs": [
        {
          "output_type": "execute_result",
          "data": {
            "text/html": [
              "<div>\n",
              "<style scoped>\n",
              "    .dataframe tbody tr th:only-of-type {\n",
              "        vertical-align: middle;\n",
              "    }\n",
              "\n",
              "    .dataframe tbody tr th {\n",
              "        vertical-align: top;\n",
              "    }\n",
              "\n",
              "    .dataframe thead th {\n",
              "        text-align: right;\n",
              "    }\n",
              "</style>\n",
              "<table border=\"1\" class=\"dataframe\">\n",
              "  <thead>\n",
              "    <tr style=\"text-align: right;\">\n",
              "      <th></th>\n",
              "      <th>K</th>\n",
              "      <th>RMSE</th>\n",
              "    </tr>\n",
              "  </thead>\n",
              "  <tbody>\n",
              "    <tr>\n",
              "      <th>4</th>\n",
              "      <td>9</td>\n",
              "      <td>0.094019</td>\n",
              "    </tr>\n",
              "    <tr>\n",
              "      <th>2</th>\n",
              "      <td>5</td>\n",
              "      <td>0.094270</td>\n",
              "    </tr>\n",
              "    <tr>\n",
              "      <th>1</th>\n",
              "      <td>3</td>\n",
              "      <td>0.094305</td>\n",
              "    </tr>\n",
              "    <tr>\n",
              "      <th>3</th>\n",
              "      <td>7</td>\n",
              "      <td>0.094540</td>\n",
              "    </tr>\n",
              "    <tr>\n",
              "      <th>6</th>\n",
              "      <td>13</td>\n",
              "      <td>0.094663</td>\n",
              "    </tr>\n",
              "    <tr>\n",
              "      <th>8</th>\n",
              "      <td>17</td>\n",
              "      <td>0.094732</td>\n",
              "    </tr>\n",
              "    <tr>\n",
              "      <th>7</th>\n",
              "      <td>15</td>\n",
              "      <td>0.094773</td>\n",
              "    </tr>\n",
              "    <tr>\n",
              "      <th>9</th>\n",
              "      <td>19</td>\n",
              "      <td>0.094784</td>\n",
              "    </tr>\n",
              "    <tr>\n",
              "      <th>5</th>\n",
              "      <td>11</td>\n",
              "      <td>0.094803</td>\n",
              "    </tr>\n",
              "    <tr>\n",
              "      <th>0</th>\n",
              "      <td>1</td>\n",
              "      <td>0.095127</td>\n",
              "    </tr>\n",
              "  </tbody>\n",
              "</table>\n",
              "</div>"
            ],
            "text/plain": [
              "    K      RMSE\n",
              "4   9  0.094019\n",
              "2   5  0.094270\n",
              "1   3  0.094305\n",
              "3   7  0.094540\n",
              "6  13  0.094663\n",
              "8  17  0.094732\n",
              "7  15  0.094773\n",
              "9  19  0.094784\n",
              "5  11  0.094803\n",
              "0   1  0.095127"
            ]
          },
          "metadata": {
            "tags": []
          },
          "execution_count": 50
        }
      ]
    },
    {
      "cell_type": "code",
      "metadata": {
        "colab": {
          "base_uri": "https://localhost:8080/"
        },
        "id": "3M9-PA3ZMKlk",
        "outputId": "cd37793a-c465-455b-d04e-0253057265b0"
      },
      "source": [
        "from sklearn.impute import KNNImputer\n",
        "\n",
        "knn_imputer = KNNImputer(n_neighbors=9, weights='distance') # 최적 9\n",
        "df_out_knn = knn_imputer.fit_transform(df_out_scaled)\n",
        "df_out_knn=pd.DataFrame(df_out_knn, columns=df_out_scaled.columns)\n",
        "import statsmodels.api as sm\n",
        "\n",
        "# OLS RESULT\n",
        "X = sm.add_constant(df_out_knn.iloc[:, :-1])\n",
        "y= df_out_knn['count']\n",
        "lm_knn_out = sm.OLS(y,X).fit()\n",
        "print(lm_knn_out.summary())"
      ],
      "execution_count": null,
      "outputs": [
        {
          "output_type": "stream",
          "text": [
            "                            OLS Regression Results                            \n",
            "==============================================================================\n",
            "Dep. Variable:                  count   R-squared:                       0.595\n",
            "Model:                            OLS   Adj. R-squared:                  0.592\n",
            "Method:                 Least Squares   F-statistic:                     225.0\n",
            "Date:                Wed, 18 Aug 2021   Prob (F-statistic):          2.88e-263\n",
            "Time:                        16:41:33   Log-Likelihood:                 936.84\n",
            "No. Observations:                1390   AIC:                            -1854.\n",
            "Df Residuals:                    1380   BIC:                            -1801.\n",
            "Df Model:                           9                                         \n",
            "Covariance Type:            nonrobust                                         \n",
            "==========================================================================================\n",
            "                             coef    std err          t      P>|t|      [0.025      0.975]\n",
            "------------------------------------------------------------------------------------------\n",
            "const                     -0.0603      0.038     -1.578      0.115      -0.135       0.015\n",
            "hour                       0.2559      0.014     18.839      0.000       0.229       0.283\n",
            "hour_bef_temperature       0.3345      0.022     14.938      0.000       0.291       0.378\n",
            "hour_bef_precipitation    -0.1333      0.020     -6.535      0.000      -0.173      -0.093\n",
            "hour_bef_windspeed         0.0914      0.025      3.627      0.000       0.042       0.141\n",
            "hour_bef_humidity         -0.0622      0.027     -2.343      0.019      -0.114      -0.010\n",
            "hour_bef_visibility        0.0275      0.021      1.297      0.195      -0.014       0.069\n",
            "hour_bef_ozone             0.0878      0.028      3.145      0.002       0.033       0.143\n",
            "hour_bef_pm10             -0.1881      0.035     -5.373      0.000      -0.257      -0.119\n",
            "hour_bef_pm2.5             0.0325      0.027      1.190      0.234      -0.021       0.086\n",
            "==============================================================================\n",
            "Omnibus:                      188.840   Durbin-Watson:                   1.981\n",
            "Prob(Omnibus):                  0.000   Jarque-Bera (JB):              304.526\n",
            "Skew:                           0.912   Prob(JB):                     7.46e-67\n",
            "Kurtosis:                       4.391   Cond. No.                         26.3\n",
            "==============================================================================\n",
            "\n",
            "Warnings:\n",
            "[1] Standard Errors assume that the covariance matrix of the errors is correctly specified.\n"
          ],
          "name": "stdout"
        }
      ]
    },
    {
      "cell_type": "markdown",
      "metadata": {
        "id": "XIYyZTuCwcS1"
      },
      "source": [
        "# MICE"
      ]
    },
    {
      "cell_type": "code",
      "metadata": {
        "colab": {
          "base_uri": "https://localhost:8080/"
        },
        "id": "eMzFW-fBkOVD",
        "outputId": "126c72f1-a440-4f2c-b585-e2abfe45180c"
      },
      "source": [
        "! pip install impyute"
      ],
      "execution_count": null,
      "outputs": [
        {
          "output_type": "stream",
          "text": [
            "Collecting impyute\n",
            "  Downloading impyute-0.0.8-py2.py3-none-any.whl (31 kB)\n",
            "Requirement already satisfied: scipy in /usr/local/lib/python3.7/dist-packages (from impyute) (1.4.1)\n",
            "Requirement already satisfied: numpy in /usr/local/lib/python3.7/dist-packages (from impyute) (1.19.5)\n",
            "Requirement already satisfied: scikit-learn in /usr/local/lib/python3.7/dist-packages (from impyute) (0.22.2.post1)\n",
            "Requirement already satisfied: joblib>=0.11 in /usr/local/lib/python3.7/dist-packages (from scikit-learn->impyute) (1.0.1)\n",
            "Installing collected packages: impyute\n",
            "Successfully installed impyute-0.0.8\n"
          ],
          "name": "stdout"
        }
      ]
    },
    {
      "cell_type": "code",
      "metadata": {
        "colab": {
          "base_uri": "https://localhost:8080/",
          "height": 419
        },
        "id": "0rtc0C4ZpGX1",
        "outputId": "f68b00cc-ffc9-477e-d961-632e570539f5"
      },
      "source": [
        "from impyute.imputation.cs import mice\n",
        "df_out_mice = mice(df_out.values)\n",
        "df_out_mice = pd.DataFrame(df_out_mice, columns=df_out.columns)\n",
        "df_out_mice.drop('id', axis=1,inplace=True)\n",
        "df_out_mice"
      ],
      "execution_count": null,
      "outputs": [
        {
          "output_type": "execute_result",
          "data": {
            "text/html": [
              "<div>\n",
              "<style scoped>\n",
              "    .dataframe tbody tr th:only-of-type {\n",
              "        vertical-align: middle;\n",
              "    }\n",
              "\n",
              "    .dataframe tbody tr th {\n",
              "        vertical-align: top;\n",
              "    }\n",
              "\n",
              "    .dataframe thead th {\n",
              "        text-align: right;\n",
              "    }\n",
              "</style>\n",
              "<table border=\"1\" class=\"dataframe\">\n",
              "  <thead>\n",
              "    <tr style=\"text-align: right;\">\n",
              "      <th></th>\n",
              "      <th>hour</th>\n",
              "      <th>hour_bef_temperature</th>\n",
              "      <th>hour_bef_precipitation</th>\n",
              "      <th>hour_bef_windspeed</th>\n",
              "      <th>hour_bef_humidity</th>\n",
              "      <th>hour_bef_visibility</th>\n",
              "      <th>hour_bef_ozone</th>\n",
              "      <th>hour_bef_pm10</th>\n",
              "      <th>hour_bef_pm2.5</th>\n",
              "      <th>count</th>\n",
              "    </tr>\n",
              "  </thead>\n",
              "  <tbody>\n",
              "    <tr>\n",
              "      <th>0</th>\n",
              "      <td>20.0</td>\n",
              "      <td>16.3</td>\n",
              "      <td>1.0</td>\n",
              "      <td>1.5</td>\n",
              "      <td>89.0</td>\n",
              "      <td>576.0</td>\n",
              "      <td>0.027</td>\n",
              "      <td>76.0</td>\n",
              "      <td>33.0</td>\n",
              "      <td>49.0</td>\n",
              "    </tr>\n",
              "    <tr>\n",
              "      <th>1</th>\n",
              "      <td>13.0</td>\n",
              "      <td>20.1</td>\n",
              "      <td>0.0</td>\n",
              "      <td>1.4</td>\n",
              "      <td>48.0</td>\n",
              "      <td>916.0</td>\n",
              "      <td>0.042</td>\n",
              "      <td>73.0</td>\n",
              "      <td>40.0</td>\n",
              "      <td>159.0</td>\n",
              "    </tr>\n",
              "    <tr>\n",
              "      <th>2</th>\n",
              "      <td>6.0</td>\n",
              "      <td>13.9</td>\n",
              "      <td>0.0</td>\n",
              "      <td>0.7</td>\n",
              "      <td>79.0</td>\n",
              "      <td>1382.0</td>\n",
              "      <td>0.033</td>\n",
              "      <td>32.0</td>\n",
              "      <td>19.0</td>\n",
              "      <td>26.0</td>\n",
              "    </tr>\n",
              "    <tr>\n",
              "      <th>3</th>\n",
              "      <td>23.0</td>\n",
              "      <td>8.1</td>\n",
              "      <td>0.0</td>\n",
              "      <td>2.7</td>\n",
              "      <td>54.0</td>\n",
              "      <td>946.0</td>\n",
              "      <td>0.040</td>\n",
              "      <td>75.0</td>\n",
              "      <td>64.0</td>\n",
              "      <td>57.0</td>\n",
              "    </tr>\n",
              "    <tr>\n",
              "      <th>4</th>\n",
              "      <td>18.0</td>\n",
              "      <td>29.5</td>\n",
              "      <td>0.0</td>\n",
              "      <td>4.8</td>\n",
              "      <td>7.0</td>\n",
              "      <td>2000.0</td>\n",
              "      <td>0.057</td>\n",
              "      <td>27.0</td>\n",
              "      <td>11.0</td>\n",
              "      <td>431.0</td>\n",
              "    </tr>\n",
              "    <tr>\n",
              "      <th>...</th>\n",
              "      <td>...</td>\n",
              "      <td>...</td>\n",
              "      <td>...</td>\n",
              "      <td>...</td>\n",
              "      <td>...</td>\n",
              "      <td>...</td>\n",
              "      <td>...</td>\n",
              "      <td>...</td>\n",
              "      <td>...</td>\n",
              "      <td>...</td>\n",
              "    </tr>\n",
              "    <tr>\n",
              "      <th>1385</th>\n",
              "      <td>4.0</td>\n",
              "      <td>16.8</td>\n",
              "      <td>0.0</td>\n",
              "      <td>1.6</td>\n",
              "      <td>53.0</td>\n",
              "      <td>2000.0</td>\n",
              "      <td>0.031</td>\n",
              "      <td>37.0</td>\n",
              "      <td>27.0</td>\n",
              "      <td>21.0</td>\n",
              "    </tr>\n",
              "    <tr>\n",
              "      <th>1386</th>\n",
              "      <td>3.0</td>\n",
              "      <td>10.8</td>\n",
              "      <td>0.0</td>\n",
              "      <td>3.8</td>\n",
              "      <td>45.0</td>\n",
              "      <td>2000.0</td>\n",
              "      <td>0.039</td>\n",
              "      <td>34.0</td>\n",
              "      <td>19.0</td>\n",
              "      <td>20.0</td>\n",
              "    </tr>\n",
              "    <tr>\n",
              "      <th>1387</th>\n",
              "      <td>5.0</td>\n",
              "      <td>18.3</td>\n",
              "      <td>0.0</td>\n",
              "      <td>1.9</td>\n",
              "      <td>54.0</td>\n",
              "      <td>2000.0</td>\n",
              "      <td>0.009</td>\n",
              "      <td>30.0</td>\n",
              "      <td>21.0</td>\n",
              "      <td>22.0</td>\n",
              "    </tr>\n",
              "    <tr>\n",
              "      <th>1388</th>\n",
              "      <td>21.0</td>\n",
              "      <td>20.7</td>\n",
              "      <td>0.0</td>\n",
              "      <td>3.7</td>\n",
              "      <td>37.0</td>\n",
              "      <td>1395.0</td>\n",
              "      <td>0.082</td>\n",
              "      <td>71.0</td>\n",
              "      <td>36.0</td>\n",
              "      <td>216.0</td>\n",
              "    </tr>\n",
              "    <tr>\n",
              "      <th>1389</th>\n",
              "      <td>17.0</td>\n",
              "      <td>21.1</td>\n",
              "      <td>0.0</td>\n",
              "      <td>3.1</td>\n",
              "      <td>47.0</td>\n",
              "      <td>1973.0</td>\n",
              "      <td>0.046</td>\n",
              "      <td>38.0</td>\n",
              "      <td>17.0</td>\n",
              "      <td>170.0</td>\n",
              "    </tr>\n",
              "  </tbody>\n",
              "</table>\n",
              "<p>1390 rows × 10 columns</p>\n",
              "</div>"
            ],
            "text/plain": [
              "      hour  hour_bef_temperature  ...  hour_bef_pm2.5  count\n",
              "0     20.0                  16.3  ...            33.0   49.0\n",
              "1     13.0                  20.1  ...            40.0  159.0\n",
              "2      6.0                  13.9  ...            19.0   26.0\n",
              "3     23.0                   8.1  ...            64.0   57.0\n",
              "4     18.0                  29.5  ...            11.0  431.0\n",
              "...    ...                   ...  ...             ...    ...\n",
              "1385   4.0                  16.8  ...            27.0   21.0\n",
              "1386   3.0                  10.8  ...            19.0   20.0\n",
              "1387   5.0                  18.3  ...            21.0   22.0\n",
              "1388  21.0                  20.7  ...            36.0  216.0\n",
              "1389  17.0                  21.1  ...            17.0  170.0\n",
              "\n",
              "[1390 rows x 10 columns]"
            ]
          },
          "metadata": {
            "tags": []
          },
          "execution_count": 18
        }
      ]
    },
    {
      "cell_type": "code",
      "metadata": {
        "id": "eUBwADHEsHvb"
      },
      "source": [
        "df_out_mice.isna().sum()"
      ],
      "execution_count": null,
      "outputs": []
    },
    {
      "cell_type": "code",
      "metadata": {
        "colab": {
          "base_uri": "https://localhost:8080/"
        },
        "id": "PV-6W-FPp7qT",
        "outputId": "9ec9967d-d583-4d43-d229-2fb13e931d07"
      },
      "source": [
        "X = sm.add_constant(df_out_mice.iloc[:,:-1])\n",
        "y= df_out_mice['count']\n",
        "lm_mice_out = sm.OLS(y,X).fit()\n",
        "print(lm_mice_out.summary())"
      ],
      "execution_count": null,
      "outputs": [
        {
          "output_type": "stream",
          "text": [
            "                            OLS Regression Results                            \n",
            "==============================================================================\n",
            "Dep. Variable:                  count   R-squared:                       0.595\n",
            "Model:                            OLS   Adj. R-squared:                  0.593\n",
            "Method:                 Least Squares   F-statistic:                     225.4\n",
            "Date:                Wed, 18 Aug 2021   Prob (F-statistic):          1.30e-263\n",
            "Time:                        16:50:04   Log-Likelihood:                -7491.0\n",
            "No. Observations:                1390   AIC:                         1.500e+04\n",
            "Df Residuals:                    1380   BIC:                         1.505e+04\n",
            "Df Model:                           9                                         \n",
            "Covariance Type:            nonrobust                                         \n",
            "==========================================================================================\n",
            "                             coef    std err          t      P>|t|      [0.025      0.975]\n",
            "------------------------------------------------------------------------------------------\n",
            "const                    -37.7505     18.960     -1.991      0.047     -74.944      -0.557\n",
            "hour                       4.7797      0.254     18.825      0.000       4.282       5.278\n",
            "hour_bef_temperature       5.3204      0.358     14.855      0.000       4.618       6.023\n",
            "hour_bef_precipitation   -57.1275      8.757     -6.524      0.000     -74.306     -39.949\n",
            "hour_bef_windspeed         4.9187      1.352      3.638      0.000       2.266       7.571\n",
            "hour_bef_humidity         -0.2980      0.124     -2.396      0.017      -0.542      -0.054\n",
            "hour_bef_visibility        0.0059      0.005      1.231      0.218      -0.003       0.015\n",
            "hour_bef_ozone           316.0867     98.425      3.211      0.001     123.008     509.166\n",
            "hour_bef_pm10             -0.3191      0.058     -5.485      0.000      -0.433      -0.205\n",
            "hour_bef_pm2.5             0.1634      0.144      1.134      0.257      -0.119       0.446\n",
            "==============================================================================\n",
            "Omnibus:                      189.143   Durbin-Watson:                   1.982\n",
            "Prob(Omnibus):                  0.000   Jarque-Bera (JB):              305.277\n",
            "Skew:                           0.912   Prob(JB):                     5.13e-67\n",
            "Kurtosis:                       4.393   Cond. No.                     1.05e+05\n",
            "==============================================================================\n",
            "\n",
            "Warnings:\n",
            "[1] Standard Errors assume that the covariance matrix of the errors is correctly specified.\n",
            "[2] The condition number is large, 1.05e+05. This might indicate that there are\n",
            "strong multicollinearity or other numerical problems.\n"
          ],
          "name": "stdout"
        }
      ]
    },
    {
      "cell_type": "markdown",
      "metadata": {
        "id": "-xUHGQsVkKJq"
      },
      "source": [
        "## [3]-2 새벽 1시 데이터 row 유지"
      ]
    },
    {
      "cell_type": "code",
      "metadata": {
        "id": "iZxFQo5mAXxe"
      },
      "source": [
        "# hour 1 그대로 포함\n",
        "df_in = train.copy()"
      ],
      "execution_count": null,
      "outputs": []
    },
    {
      "cell_type": "markdown",
      "metadata": {
        "id": "s5e4iJ1DJvZ1"
      },
      "source": [
        "### KNN imputaion"
      ]
    },
    {
      "cell_type": "code",
      "metadata": {
        "colab": {
          "base_uri": "https://localhost:8080/",
          "height": 359
        },
        "id": "ZKrZHW91G1co",
        "outputId": "17bd7c63-94ac-40ed-afc2-26b1af5d99e8"
      },
      "source": [
        "opt_2= optimize_k(df_in,'count')\n",
        "opt_2 # n_neighbors = 3(최적)"
      ],
      "execution_count": null,
      "outputs": [
        {
          "output_type": "execute_result",
          "data": {
            "text/html": [
              "<div>\n",
              "<style scoped>\n",
              "    .dataframe tbody tr th:only-of-type {\n",
              "        vertical-align: middle;\n",
              "    }\n",
              "\n",
              "    .dataframe tbody tr th {\n",
              "        vertical-align: top;\n",
              "    }\n",
              "\n",
              "    .dataframe thead th {\n",
              "        text-align: right;\n",
              "    }\n",
              "</style>\n",
              "<table border=\"1\" class=\"dataframe\">\n",
              "  <thead>\n",
              "    <tr style=\"text-align: right;\">\n",
              "      <th></th>\n",
              "      <th>K</th>\n",
              "      <th>RMSE</th>\n",
              "    </tr>\n",
              "  </thead>\n",
              "  <tbody>\n",
              "    <tr>\n",
              "      <th>1</th>\n",
              "      <td>3</td>\n",
              "      <td>0.089635</td>\n",
              "    </tr>\n",
              "    <tr>\n",
              "      <th>5</th>\n",
              "      <td>11</td>\n",
              "      <td>0.089952</td>\n",
              "    </tr>\n",
              "    <tr>\n",
              "      <th>7</th>\n",
              "      <td>15</td>\n",
              "      <td>0.090003</td>\n",
              "    </tr>\n",
              "    <tr>\n",
              "      <th>6</th>\n",
              "      <td>13</td>\n",
              "      <td>0.090287</td>\n",
              "    </tr>\n",
              "    <tr>\n",
              "      <th>8</th>\n",
              "      <td>17</td>\n",
              "      <td>0.090295</td>\n",
              "    </tr>\n",
              "    <tr>\n",
              "      <th>3</th>\n",
              "      <td>7</td>\n",
              "      <td>0.090402</td>\n",
              "    </tr>\n",
              "    <tr>\n",
              "      <th>0</th>\n",
              "      <td>1</td>\n",
              "      <td>0.090474</td>\n",
              "    </tr>\n",
              "    <tr>\n",
              "      <th>2</th>\n",
              "      <td>5</td>\n",
              "      <td>0.090648</td>\n",
              "    </tr>\n",
              "    <tr>\n",
              "      <th>9</th>\n",
              "      <td>19</td>\n",
              "      <td>0.090672</td>\n",
              "    </tr>\n",
              "    <tr>\n",
              "      <th>4</th>\n",
              "      <td>9</td>\n",
              "      <td>0.090711</td>\n",
              "    </tr>\n",
              "  </tbody>\n",
              "</table>\n",
              "</div>"
            ],
            "text/plain": [
              "    K      RMSE\n",
              "1   3  0.089635\n",
              "5  11  0.089952\n",
              "7  15  0.090003\n",
              "6  13  0.090287\n",
              "8  17  0.090295\n",
              "3   7  0.090402\n",
              "0   1  0.090474\n",
              "2   5  0.090648\n",
              "9  19  0.090672\n",
              "4   9  0.090711"
            ]
          },
          "metadata": {
            "tags": []
          },
          "execution_count": 51
        }
      ]
    },
    {
      "cell_type": "code",
      "metadata": {
        "colab": {
          "base_uri": "https://localhost:8080/"
        },
        "id": "M33NkAmgw0k4",
        "outputId": "43b6dd33-05fb-4628-938f-82864fc0ab07"
      },
      "source": [
        "from sklearn.impute import KNNImputer\n",
        "knn_imputer = KNNImputer(n_neighbors=3, weights='distance')\n",
        "df_in_knn = knn_imputer.fit_transform(df_in_scaled)\n",
        "df_in_knn=pd.DataFrame(df_in_knn, columns=df_in_scaled.columns)\n",
        "import statsmodels.api as sm\n",
        "\n",
        "# OLS RESULT\n",
        "X = sm.add_constant(df_in_knn.iloc[:, :-1])\n",
        "y= df_in_knn['count']\n",
        "lm_knn_in = sm.OLS(y,X).fit()\n",
        "print(lm_knn_in.summary())"
      ],
      "execution_count": null,
      "outputs": [
        {
          "output_type": "stream",
          "text": [
            "                            OLS Regression Results                            \n",
            "==============================================================================\n",
            "Dep. Variable:                  count   R-squared:                       0.600\n",
            "Model:                            OLS   Adj. R-squared:                  0.598\n",
            "Method:                 Least Squares   F-statistic:                     240.2\n",
            "Date:                Wed, 18 Aug 2021   Prob (F-statistic):          3.05e-279\n",
            "Time:                        16:44:48   Log-Likelihood:                 998.91\n",
            "No. Observations:                1450   AIC:                            -1978.\n",
            "Df Residuals:                    1440   BIC:                            -1925.\n",
            "Df Model:                           9                                         \n",
            "Covariance Type:            nonrobust                                         \n",
            "==========================================================================================\n",
            "                             coef    std err          t      P>|t|      [0.025      0.975]\n",
            "------------------------------------------------------------------------------------------\n",
            "const                     -0.0543      0.037     -1.472      0.141      -0.127       0.018\n",
            "hour                       0.2510      0.013     19.760      0.000       0.226       0.276\n",
            "hour_bef_temperature       0.3333      0.022     15.418      0.000       0.291       0.376\n",
            "hour_bef_precipitation    -0.1276      0.020     -6.536      0.000      -0.166      -0.089\n",
            "hour_bef_windspeed         0.0923      0.025      3.762      0.000       0.044       0.140\n",
            "hour_bef_humidity         -0.0611      0.026     -2.385      0.017      -0.111      -0.011\n",
            "hour_bef_visibility        0.0244      0.020      1.195      0.232      -0.016       0.064\n",
            "hour_bef_ozone             0.0872      0.027      3.216      0.001       0.034       0.140\n",
            "hour_bef_pm10             -0.1826      0.034     -5.402      0.000      -0.249      -0.116\n",
            "hour_bef_pm2.5             0.0278      0.026      1.050      0.294      -0.024       0.080\n",
            "==============================================================================\n",
            "Omnibus:                      199.512   Durbin-Watson:                   1.975\n",
            "Prob(Omnibus):                  0.000   Jarque-Bera (JB):              329.757\n",
            "Skew:                           0.910   Prob(JB):                     2.48e-72\n",
            "Kurtosis:                       4.464   Cond. No.                         26.2\n",
            "==============================================================================\n",
            "\n",
            "Warnings:\n",
            "[1] Standard Errors assume that the covariance matrix of the errors is correctly specified.\n"
          ],
          "name": "stdout"
        }
      ]
    },
    {
      "cell_type": "markdown",
      "metadata": {
        "id": "HPyUajagJ3Wc"
      },
      "source": [
        "### mice"
      ]
    },
    {
      "cell_type": "code",
      "metadata": {
        "id": "dwS-v4qQyE3A"
      },
      "source": [
        "from impyute.imputation.cs import mice\n",
        "df_in_mice = mice(df_in.values)\n",
        "df_in_mice = pd.DataFrame(df_in_mice, columns=df_in.columns)\n",
        "df_in_mice.drop('id', axis=1,inplace=True)\n",
        "df_in_mice"
      ],
      "execution_count": null,
      "outputs": []
    },
    {
      "cell_type": "code",
      "metadata": {
        "colab": {
          "base_uri": "https://localhost:8080/"
        },
        "id": "3VmMbyIyyJJ4",
        "outputId": "68e13572-7453-4c14-aade-b27ab3b0bab8"
      },
      "source": [
        "X = sm.add_constant(df_in_mice.iloc[:,:-1])\n",
        "y= df_in_mice['count']\n",
        "lm_mice_in = sm.OLS(y,X).fit()\n",
        "print(lm_mice_in.summary())"
      ],
      "execution_count": null,
      "outputs": [
        {
          "output_type": "stream",
          "text": [
            "                            OLS Regression Results                            \n",
            "==============================================================================\n",
            "Dep. Variable:                  count   R-squared:                       0.601\n",
            "Model:                            OLS   Adj. R-squared:                  0.599\n",
            "Method:                 Least Squares   F-statistic:                     241.2\n",
            "Date:                Wed, 18 Aug 2021   Prob (F-statistic):          5.30e-280\n",
            "Time:                        16:45:50   Log-Likelihood:                -7791.8\n",
            "No. Observations:                1450   AIC:                         1.560e+04\n",
            "Df Residuals:                    1440   BIC:                         1.566e+04\n",
            "Df Model:                           9                                         \n",
            "Covariance Type:            nonrobust                                         \n",
            "==========================================================================================\n",
            "                             coef    std err          t      P>|t|      [0.025      0.975]\n",
            "------------------------------------------------------------------------------------------\n",
            "const                    -34.7905     18.517     -1.879      0.060     -71.114       1.533\n",
            "hour                       4.6803      0.238     19.679      0.000       4.214       5.147\n",
            "hour_bef_temperature       5.2714      0.347     15.174      0.000       4.590       5.953\n",
            "hour_bef_precipitation   -54.4447      8.364     -6.510      0.000     -70.851     -38.038\n",
            "hour_bef_windspeed         4.9954      1.313      3.806      0.000       2.421       7.570\n",
            "hour_bef_humidity         -0.2960      0.121     -2.453      0.014      -0.533      -0.059\n",
            "hour_bef_visibility        0.0053      0.005      1.140      0.254      -0.004       0.014\n",
            "hour_bef_ozone           320.3404     96.882      3.306      0.001     130.295     510.385\n",
            "hour_bef_pm10             -0.3239      0.057     -5.656      0.000      -0.436      -0.212\n",
            "hour_bef_pm2.5             0.1653      0.142      1.165      0.244      -0.113       0.444\n",
            "==============================================================================\n",
            "Omnibus:                      199.422   Durbin-Watson:                   1.978\n",
            "Prob(Omnibus):                  0.000   Jarque-Bera (JB):              330.028\n",
            "Skew:                           0.909   Prob(JB):                     2.16e-72\n",
            "Kurtosis:                       4.468   Cond. No.                     1.07e+05\n",
            "==============================================================================\n",
            "\n",
            "Warnings:\n",
            "[1] Standard Errors assume that the covariance matrix of the errors is correctly specified.\n",
            "[2] The condition number is large, 1.07e+05. This might indicate that there are\n",
            "strong multicollinearity or other numerical problems.\n"
          ],
          "name": "stdout"
        }
      ]
    },
    {
      "cell_type": "code",
      "metadata": {
        "colab": {
          "base_uri": "https://localhost:8080/",
          "height": 80
        },
        "id": "9lcK3yIAKD89",
        "outputId": "16fa98d2-cc30-4195-8c0a-3351f8ffe824"
      },
      "source": [
        "look = pd.DataFrame({'in_KNN imp' : lm_knn_in.rsquared_adj, \n",
        "                    'in_MICE imp': lm_mice_in.rsquared_adj,\n",
        "                    'out_KNN imp': lm_knn_out.rsquared_adj,\n",
        "                    'out_MICE imp': lm_mice_out.rsquared_adj},\n",
        "                   index = ['R_adj'])\n",
        "look"
      ],
      "execution_count": null,
      "outputs": [
        {
          "output_type": "execute_result",
          "data": {
            "text/html": [
              "<div>\n",
              "<style scoped>\n",
              "    .dataframe tbody tr th:only-of-type {\n",
              "        vertical-align: middle;\n",
              "    }\n",
              "\n",
              "    .dataframe tbody tr th {\n",
              "        vertical-align: top;\n",
              "    }\n",
              "\n",
              "    .dataframe thead th {\n",
              "        text-align: right;\n",
              "    }\n",
              "</style>\n",
              "<table border=\"1\" class=\"dataframe\">\n",
              "  <thead>\n",
              "    <tr style=\"text-align: right;\">\n",
              "      <th></th>\n",
              "      <th>in_KNN imp</th>\n",
              "      <th>in_MICE imp</th>\n",
              "      <th>out_KNN imp</th>\n",
              "      <th>out_MICE imp</th>\n",
              "    </tr>\n",
              "  </thead>\n",
              "  <tbody>\n",
              "    <tr>\n",
              "      <th>R_adj</th>\n",
              "      <td>0.597712</td>\n",
              "      <td>0.598691</td>\n",
              "      <td>0.592047</td>\n",
              "      <td>0.592517</td>\n",
              "    </tr>\n",
              "  </tbody>\n",
              "</table>\n",
              "</div>"
            ],
            "text/plain": [
              "       in_KNN imp  in_MICE imp  out_KNN imp  out_MICE imp\n",
              "R_adj    0.597712     0.598691     0.592047      0.592517"
            ]
          },
          "metadata": {
            "tags": []
          },
          "execution_count": 59
        }
      ]
    },
    {
      "cell_type": "code",
      "metadata": {
        "colab": {
          "base_uri": "https://localhost:8080/"
        },
        "id": "bslpzS1h2h_d",
        "outputId": "47d65414-9060-4e0b-d573-66d46a93e221"
      },
      "source": [
        "print({'IN_KNN imp : {:.3f}'.format(lm_knn_in.rsquared_adj), \n",
        "                    'IN_MICE Imp: {:.3f}'.format(lm_mice_in.rsquared_adj),\n",
        "                    'OUT_KNN imp: {:.3f}'.format(lm_knn_out.rsquared_adj),\n",
        "                    'OUT_MICE imp: {:.3f}'.format(lm_mice_out.rsquared_adj)})\n",
        "\n"
      ],
      "execution_count": null,
      "outputs": [
        {
          "output_type": "stream",
          "text": [
            "{'IN_MICE Imp: 0.599', 'IN_KNN imp : 0.598', 'OUT_MICE imp: 0.593', 'OUT_KNN imp: 0.592'}\n"
          ],
          "name": "stdout"
        }
      ]
    },
    {
      "cell_type": "markdown",
      "metadata": {
        "id": "RE_2xnzDLUKH"
      },
      "source": [
        "## => hour = 1 포함 & MICE imputaion 사용"
      ]
    },
    {
      "cell_type": "markdown",
      "metadata": {
        "id": "R4DOZ1xawej4"
      },
      "source": [
        "# 이상치 제거"
      ]
    },
    {
      "cell_type": "code",
      "metadata": {
        "id": "gLDKzaRQ9_dj"
      },
      "source": [
        "df_null = df_in_mice.copy()"
      ],
      "execution_count": null,
      "outputs": []
    },
    {
      "cell_type": "code",
      "metadata": {
        "colab": {
          "base_uri": "https://localhost:8080/",
          "height": 1000
        },
        "id": "rJCeKzr1AiXC",
        "outputId": "38498db4-2247-4e50-97bd-80d02cf795d0"
      },
      "source": [
        "fig, axs = plt.subplots(ncols=5, nrows=2, figsize=(20, 10))\n",
        "index = 0\n",
        "axs = axs.flatten()\n",
        "for k,v in df_null.items():\n",
        "    sns.distplot(v, ax=axs[index])\n",
        "    index += 1\n",
        "plt.tight_layout(pad=0.4, w_pad=0.5, h_pad=5.0)\n",
        "plt.show()"
      ],
      "execution_count": null,
      "outputs": [
        {
          "output_type": "stream",
          "text": [
            "/usr/local/lib/python3.7/dist-packages/seaborn/distributions.py:2557: FutureWarning: `distplot` is a deprecated function and will be removed in a future version. Please adapt your code to use either `displot` (a figure-level function with similar flexibility) or `histplot` (an axes-level function for histograms).\n",
            "  warnings.warn(msg, FutureWarning)\n",
            "/usr/local/lib/python3.7/dist-packages/seaborn/distributions.py:2557: FutureWarning: `distplot` is a deprecated function and will be removed in a future version. Please adapt your code to use either `displot` (a figure-level function with similar flexibility) or `histplot` (an axes-level function for histograms).\n",
            "  warnings.warn(msg, FutureWarning)\n",
            "/usr/local/lib/python3.7/dist-packages/seaborn/distributions.py:2557: FutureWarning: `distplot` is a deprecated function and will be removed in a future version. Please adapt your code to use either `displot` (a figure-level function with similar flexibility) or `histplot` (an axes-level function for histograms).\n",
            "  warnings.warn(msg, FutureWarning)\n",
            "/usr/local/lib/python3.7/dist-packages/seaborn/distributions.py:2557: FutureWarning: `distplot` is a deprecated function and will be removed in a future version. Please adapt your code to use either `displot` (a figure-level function with similar flexibility) or `histplot` (an axes-level function for histograms).\n",
            "  warnings.warn(msg, FutureWarning)\n",
            "/usr/local/lib/python3.7/dist-packages/seaborn/distributions.py:2557: FutureWarning: `distplot` is a deprecated function and will be removed in a future version. Please adapt your code to use either `displot` (a figure-level function with similar flexibility) or `histplot` (an axes-level function for histograms).\n",
            "  warnings.warn(msg, FutureWarning)\n",
            "/usr/local/lib/python3.7/dist-packages/seaborn/distributions.py:2557: FutureWarning: `distplot` is a deprecated function and will be removed in a future version. Please adapt your code to use either `displot` (a figure-level function with similar flexibility) or `histplot` (an axes-level function for histograms).\n",
            "  warnings.warn(msg, FutureWarning)\n",
            "/usr/local/lib/python3.7/dist-packages/seaborn/distributions.py:2557: FutureWarning: `distplot` is a deprecated function and will be removed in a future version. Please adapt your code to use either `displot` (a figure-level function with similar flexibility) or `histplot` (an axes-level function for histograms).\n",
            "  warnings.warn(msg, FutureWarning)\n",
            "/usr/local/lib/python3.7/dist-packages/seaborn/distributions.py:2557: FutureWarning: `distplot` is a deprecated function and will be removed in a future version. Please adapt your code to use either `displot` (a figure-level function with similar flexibility) or `histplot` (an axes-level function for histograms).\n",
            "  warnings.warn(msg, FutureWarning)\n",
            "/usr/local/lib/python3.7/dist-packages/seaborn/distributions.py:2557: FutureWarning: `distplot` is a deprecated function and will be removed in a future version. Please adapt your code to use either `displot` (a figure-level function with similar flexibility) or `histplot` (an axes-level function for histograms).\n",
            "  warnings.warn(msg, FutureWarning)\n",
            "/usr/local/lib/python3.7/dist-packages/seaborn/distributions.py:2557: FutureWarning: `distplot` is a deprecated function and will be removed in a future version. Please adapt your code to use either `displot` (a figure-level function with similar flexibility) or `histplot` (an axes-level function for histograms).\n",
            "  warnings.warn(msg, FutureWarning)\n"
          ],
          "name": "stderr"
        },
        {
          "output_type": "display_data",
          "data": {
            "image/png": "[encoded data removed]",
            "text/plain": [
              "<Figure size 1440x720 with 10 Axes>"
            ]
          },
          "metadata": {
            "tags": [],
            "needs_background": "light"
          }
        }
      ]
    },
    {
      "cell_type": "code",
      "metadata": {
        "colab": {
          "base_uri": "https://localhost:8080/",
          "height": 670
        },
        "id": "4-2aTB3nSIea",
        "outputId": "d4f1e5a0-32cd-4cd4-8055-ec83c67a6b8b"
      },
      "source": [
        "# 이상치 확인\n",
        "import seaborn as sns\n",
        "import matplotlib.pyplot as plt\n",
        "from scipy import stats\n",
        "\n",
        "fig, axs = plt.subplots(ncols=5, nrows=2, figsize=(15,9))\n",
        "index = 0\n",
        "axs = axs.flatten()\n",
        "for k,v in df_null.items():\n",
        "    sns.boxplot(y=k, data=df_null, ax=axs[index])\n",
        "    index += 1\n",
        "plt.tight_layout(pad=0.4, w_pad=0.5, h_pad=5.0)"
      ],
      "execution_count": null,
      "outputs": [
        {
          "output_type": "display_data",
          "data": {
            "image/png": "[encoded data removed]",
            "text/plain": [
              "<Figure size 1080x648 with 10 Axes>"
            ]
          },
          "metadata": {
            "tags": [],
            "needs_background": "light"
          }
        }
      ]
    },
    {
      "cell_type": "markdown",
      "metadata": {
        "id": "MHyqZbusXY77"
      },
      "source": []
    },
    {
      "cell_type": "markdown",
      "metadata": {
        "id": "Q3VPHGzeXYxh"
      },
      "source": []
    },
    {
      "cell_type": "markdown",
      "metadata": {
        "id": "pQDDtEULXYr6"
      },
      "source": []
    },
    {
      "cell_type": "code",
      "metadata": {
        "id": "TkAeIV1Tjzji"
      },
      "source": [],
      "execution_count": null,
      "outputs": []
    },
    {
      "cell_type": "markdown",
      "metadata": {
        "id": "zyVpJgZQXYhz"
      },
      "source": []
    }
  ]
}