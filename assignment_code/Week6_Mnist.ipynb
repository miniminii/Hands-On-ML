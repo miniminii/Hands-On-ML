{
  "nbformat": 4,
  "nbformat_minor": 0,
  "metadata": {
    "colab": {
      "provenance": []
    },
    "kernelspec": {
      "name": "python3",
      "display_name": "Python 3"
    },
    "language_info": {
      "name": "python"
    }
  },
  "cells": [
    {
      "cell_type": "markdown",
      "metadata": {
        "id": "wI6NaWGjZUbw"
      },
      "source": [
        "# 핸즈온 머신러닝 CH7 exercise 8, 9"
      ]
    },
    {
      "cell_type": "markdown",
      "metadata": {
        "id": "zrvT4cReZbzg"
      },
      "source": [
        "## EX 8"
      ]
    },
    {
      "cell_type": "code",
      "metadata": {
        "id": "Q1099y5iTkeN"
      },
      "source": [
        "# load MNIST data\n",
        "from sklearn.datasets import fetch_openml\n",
        "mnist = fetch_openml('mnist_784', version=1, as_frame=False)"
      ],
      "execution_count": null,
      "outputs": []
    },
    {
      "cell_type": "markdown",
      "metadata": {
        "id": "ZfCu0_lVhenR"
      },
      "source": [
        "- 50,000 instances for training, 10,000 for validation, and 10,000 for testing"
      ]
    },
    {
      "cell_type": "code",
      "metadata": {
        "id": "XMZlsF7oZ5LD"
      },
      "source": [
        "# split dataset\n",
        "\n",
        "X = mnist[\"data\"]\n",
        "y = mnist[\"target\"]\n",
        "\n",
        "from sklearn.model_selection import train_test_split\n",
        "X_train_val, X_test, y_train_val, y_test = train_test_split(X, y, test_size=10000, random_state=42)\n",
        "X_train, X_val, y_train, y_val = train_test_split(X_train_val, y_train_val, test_size=10000, random_state=42)"
      ],
      "execution_count": null,
      "outputs": []
    },
    {
      "cell_type": "markdown",
      "metadata": {
        "id": "UbNqX6PQiFcu"
      },
      "source": [
        "- train classifiers : Random Forest classifier, Extra-Trees classifier, SVM"
      ]
    },
    {
      "cell_type": "code",
      "metadata": {
        "id": "bjvVQ78YiN_B"
      },
      "source": [
        "from sklearn.ensemble import RandomForestClassifier, ExtraTreesClassifier\n",
        "from sklearn.svm import LinearSVC\n",
        "from sklearn.metrics import accuracy_score, precision_score\n",
        "from sklearn.metrics import classification_report\n"
      ],
      "execution_count": null,
      "outputs": []
    },
    {
      "cell_type": "code",
      "metadata": {
        "colab": {
          "base_uri": "https://localhost:8080/"
        },
        "id": "yFT1uC0MU0ee",
        "outputId": "bb1be37c-bcdd-41a3-b14b-c68760e4a9a3"
      },
      "source": [
        "# Random Forest classifier\n",
        "randomforest_clf = RandomForestClassifier(n_estimators=100, random_state=42)\n",
        "model_rf = randomforest_clf.fit(X_train, y_train)\n",
        "y_pred_rf = model_rf.predict(X_test)\n",
        "print('Accuracy score of Logistic regression with ovr: {:.6f}'.format(accuracy_score(y_test, y_pred_rf)))\n",
        "print(\"Classificcation Report: \\n{}\".format(classification_report(y_test, y_pred_rf)))"
      ],
      "execution_count": null,
      "outputs": [
        {
          "output_type": "stream",
          "text": [
            "Accuracy score of Logistic regression with ovr: 0.964500\n",
            "Classificcation Report: \n",
            "              precision    recall  f1-score   support\n",
            "\n",
            "           0       0.98      0.98      0.98       983\n",
            "           1       0.98      0.98      0.98      1152\n",
            "           2       0.95      0.97      0.96       967\n",
            "           3       0.95      0.95      0.95      1034\n",
            "           4       0.96      0.96      0.96       906\n",
            "           5       0.97      0.96      0.96       937\n",
            "           6       0.98      0.98      0.98       961\n",
            "           7       0.97      0.97      0.97      1055\n",
            "           8       0.95      0.94      0.95       969\n",
            "           9       0.95      0.95      0.95      1036\n",
            "\n",
            "    accuracy                           0.96     10000\n",
            "   macro avg       0.96      0.96      0.96     10000\n",
            "weighted avg       0.96      0.96      0.96     10000\n",
            "\n"
          ],
          "name": "stdout"
        }
      ]
    },
    {
      "cell_type": "code",
      "metadata": {
        "colab": {
          "base_uri": "https://localhost:8080/"
        },
        "id": "GjMIXWUwVx9d",
        "outputId": "11b85c6f-c0db-487a-b7dc-22fdafde7db1"
      },
      "source": [
        "# Extra-Trees classifier\n",
        "extra_trees_clf = ExtraTreesClassifier(n_estimators=100, random_state=42)\n",
        "model_et = extra_trees_clf.fit(X_train, y_train)\n",
        "y_pred_et = model_et.predict(X_test)\n",
        "print('Accuracy score of Logistic regression with ovr: {:.6f}'.format(accuracy_score(y_test, y_pred_et)))\n",
        "print(\"Classificcation Report: \\n{}\".format(classification_report(y_test, y_pred_et)))"
      ],
      "execution_count": null,
      "outputs": [
        {
          "output_type": "stream",
          "text": [
            "Accuracy score of Logistic regression with ovr: 0.969100\n",
            "Classificcation Report: \n",
            "              precision    recall  f1-score   support\n",
            "\n",
            "           0       0.99      0.99      0.99       983\n",
            "           1       0.99      0.99      0.99      1152\n",
            "           2       0.96      0.98      0.97       967\n",
            "           3       0.96      0.95      0.96      1034\n",
            "           4       0.97      0.97      0.97       906\n",
            "           5       0.97      0.96      0.97       937\n",
            "           6       0.98      0.99      0.98       961\n",
            "           7       0.97      0.97      0.97      1055\n",
            "           8       0.95      0.95      0.95       969\n",
            "           9       0.96      0.95      0.95      1036\n",
            "\n",
            "    accuracy                           0.97     10000\n",
            "   macro avg       0.97      0.97      0.97     10000\n",
            "weighted avg       0.97      0.97      0.97     10000\n",
            "\n"
          ],
          "name": "stdout"
        }
      ]
    },
    {
      "cell_type": "code",
      "metadata": {
        "colab": {
          "base_uri": "https://localhost:8080/"
        },
        "id": "Jy_uMw7CWQSP",
        "outputId": "2da250ba-af5a-473d-d964-732795cfdd9e"
      },
      "source": [
        "# SVM\n",
        "svm_clf = LinearSVC(max_iter=100, tol=20, random_state=42)\n",
        "model_svm = svm_clf.fit(X_train, y_train)\n",
        "y_pred_svm = model_svm.predict(X_test)\n",
        "print('Accuracy score of Logistic regression with ovr: {:.6f}'.format(accuracy_score(y_test, y_pred_svm)))\n",
        "print(\"Classificcation Report: \\n{}\".format(classification_report(y_test, y_pred_svm)))"
      ],
      "execution_count": null,
      "outputs": [
        {
          "output_type": "stream",
          "text": [
            "Accuracy score of Logistic regression with ovr: 0.866000\n",
            "Classificcation Report: \n",
            "              precision    recall  f1-score   support\n",
            "\n",
            "           0       0.97      0.93      0.95       983\n",
            "           1       0.95      0.96      0.95      1152\n",
            "           2       0.87      0.85      0.86       967\n",
            "           3       0.92      0.81      0.86      1034\n",
            "           4       0.78      0.93      0.85       906\n",
            "           5       0.72      0.87      0.79       937\n",
            "           6       0.94      0.93      0.93       961\n",
            "           7       0.95      0.85      0.90      1055\n",
            "           8       0.85      0.68      0.75       969\n",
            "           9       0.75      0.85      0.80      1036\n",
            "\n",
            "    accuracy                           0.87     10000\n",
            "   macro avg       0.87      0.87      0.86     10000\n",
            "weighted avg       0.87      0.87      0.87     10000\n",
            "\n"
          ],
          "name": "stdout"
        }
      ]
    },
    {
      "cell_type": "markdown",
      "metadata": {
        "id": "4m6UZADJW2HM"
      },
      "source": [
        "- combine them into an ensemble that outperforms them all on the validation set, using a soft or hard voting classifier."
      ]
    },
    {
      "cell_type": "code",
      "metadata": {
        "colab": {
          "base_uri": "https://localhost:8080/"
        },
        "id": "OEzDi4jmj7XW",
        "outputId": "bb9e9239-842c-4698-808d-212f177ba3ce"
      },
      "source": [
        "estimators = [randomforest_clf, extra_trees_clf, svm_clf]\n",
        "for estimator in estimators:\n",
        "    print(\"Training the\", estimator)\n",
        "    estimator.fit(X_train, y_train)"
      ],
      "execution_count": null,
      "outputs": [
        {
          "output_type": "stream",
          "text": [
            "Training the RandomForestClassifier(bootstrap=True, ccp_alpha=0.0, class_weight=None,\n",
            "                       criterion='gini', max_depth=None, max_features='auto',\n",
            "                       max_leaf_nodes=None, max_samples=None,\n",
            "                       min_impurity_decrease=0.0, min_impurity_split=None,\n",
            "                       min_samples_leaf=1, min_samples_split=2,\n",
            "                       min_weight_fraction_leaf=0.0, n_estimators=100,\n",
            "                       n_jobs=None, oob_score=False, random_state=42, verbose=0,\n",
            "                       warm_start=False)\n",
            "Training the ExtraTreesClassifier(bootstrap=False, ccp_alpha=0.0, class_weight=None,\n",
            "                     criterion='gini', max_depth=None, max_features='auto',\n",
            "                     max_leaf_nodes=None, max_samples=None,\n",
            "                     min_impurity_decrease=0.0, min_impurity_split=None,\n",
            "                     min_samples_leaf=1, min_samples_split=2,\n",
            "                     min_weight_fraction_leaf=0.0, n_estimators=100,\n",
            "                     n_jobs=None, oob_score=False, random_state=42, verbose=0,\n",
            "                     warm_start=False)\n",
            "Training the LinearSVC(C=1.0, class_weight=None, dual=True, fit_intercept=True,\n",
            "          intercept_scaling=1, loss='squared_hinge', max_iter=100,\n",
            "          multi_class='ovr', penalty='l2', random_state=42, tol=20, verbose=0)\n"
          ],
          "name": "stdout"
        }
      ]
    },
    {
      "cell_type": "code",
      "metadata": {
        "colab": {
          "base_uri": "https://localhost:8080/"
        },
        "id": "8P8W4E7mXWpF",
        "outputId": "fec8f395-996a-4c67-f947-4fd0ef36187d"
      },
      "source": [
        "[estimator.score(X_val, y_val) for estimator in estimators]"
      ],
      "execution_count": null,
      "outputs": [
        {
          "output_type": "execute_result",
          "data": {
            "text/plain": [
              "[0.9692, 0.9715, 0.8662]"
            ]
          },
          "metadata": {
            "tags": []
          },
          "execution_count": 22
        }
      ]
    },
    {
      "cell_type": "code",
      "metadata": {
        "id": "uY9OiGY0UWVX"
      },
      "source": [
        "from sklearn.ensemble import VotingClassifier\n",
        "named_estimators = [\n",
        "    (\"randomforest_clf\", randomforest_clf),\n",
        "    (\"extra_trees_clf\", extra_trees_clf),\n",
        "    (\"svm_clf\", svm_clf)]"
      ],
      "execution_count": null,
      "outputs": []
    },
    {
      "cell_type": "code",
      "metadata": {
        "colab": {
          "base_uri": "https://localhost:8080/"
        },
        "id": "xVQDNM2AXhyu",
        "outputId": "8998e344-0d7e-4d94-f23d-a97d654ec2ae"
      },
      "source": [
        "voting_clf = VotingClassifier(named_estimators)\n",
        "voting_clf.fit(X_train, y_train)\n",
        "voting_clf.score(X_val, y_val)"
      ],
      "execution_count": null,
      "outputs": [
        {
          "output_type": "execute_result",
          "data": {
            "text/plain": [
              "0.9687"
            ]
          },
          "metadata": {
            "tags": []
          },
          "execution_count": 39
        }
      ]
    },
    {
      "cell_type": "code",
      "metadata": {
        "colab": {
          "base_uri": "https://localhost:8080/"
        },
        "id": "_766BP-iYsP9",
        "outputId": "3ec2c4e5-1638-42ae-a6f6-46d5b539ba4e"
      },
      "source": [
        "[estimator.score(X_val, y_val) for estimator in estimators]"
      ],
      "execution_count": null,
      "outputs": [
        {
          "output_type": "execute_result",
          "data": {
            "text/plain": [
              "[0.9692, 0.9715, 0.8662]"
            ]
          },
          "metadata": {
            "tags": []
          },
          "execution_count": 40
        }
      ]
    },
    {
      "cell_type": "markdown",
      "metadata": {
        "id": "WL_F1WyKY2du"
      },
      "source": [
        "- remove the SVM"
      ]
    },
    {
      "cell_type": "code",
      "metadata": {
        "colab": {
          "base_uri": "https://localhost:8080/"
        },
        "id": "qJSCRIyqZ8Vy",
        "outputId": "53402ff6-f2fc-4d31-b877-e810cd4e02d5"
      },
      "source": [
        "voting_clf.set_params(svm_clf=None)"
      ],
      "execution_count": null,
      "outputs": [
        {
          "output_type": "execute_result",
          "data": {
            "text/plain": [
              "VotingClassifier(estimators=[('randomforest_clf',\n",
              "                              RandomForestClassifier(bootstrap=True,\n",
              "                                                     ccp_alpha=0.0,\n",
              "                                                     class_weight=None,\n",
              "                                                     criterion='gini',\n",
              "                                                     max_depth=None,\n",
              "                                                     max_features='auto',\n",
              "                                                     max_leaf_nodes=None,\n",
              "                                                     max_samples=None,\n",
              "                                                     min_impurity_decrease=0.0,\n",
              "                                                     min_impurity_split=None,\n",
              "                                                     min_samples_leaf=1,\n",
              "                                                     min_samples_split=2,\n",
              "                                                     min_weight_fraction_leaf=0.0,\n",
              "                                                     n_estimators=100,\n",
              "                                                     n_jobs=...\n",
              "                                                   max_depth=None,\n",
              "                                                   max_features='auto',\n",
              "                                                   max_leaf_nodes=None,\n",
              "                                                   max_samples=None,\n",
              "                                                   min_impurity_decrease=0.0,\n",
              "                                                   min_impurity_split=None,\n",
              "                                                   min_samples_leaf=1,\n",
              "                                                   min_samples_split=2,\n",
              "                                                   min_weight_fraction_leaf=0.0,\n",
              "                                                   n_estimators=100,\n",
              "                                                   n_jobs=None, oob_score=False,\n",
              "                                                   random_state=42, verbose=0,\n",
              "                                                   warm_start=False)),\n",
              "                             ('svm_clf', None)],\n",
              "                 flatten_transform=True, n_jobs=None, voting='hard',\n",
              "                 weights=None)"
            ]
          },
          "metadata": {
            "tags": []
          },
          "execution_count": 41
        }
      ]
    },
    {
      "cell_type": "code",
      "metadata": {
        "id": "rxSiyIh-aAcQ"
      },
      "source": [
        "del voting_clf.estimators_[2]"
      ],
      "execution_count": null,
      "outputs": []
    },
    {
      "cell_type": "code",
      "metadata": {
        "colab": {
          "base_uri": "https://localhost:8080/"
        },
        "id": "vXOrQwCxaC64",
        "outputId": "495fd877-faf7-45c2-8962-b00d8dafa1f8"
      },
      "source": [
        "voting_clf.score(X_val, y_val)"
      ],
      "execution_count": null,
      "outputs": [
        {
          "output_type": "execute_result",
          "data": {
            "text/plain": [
              "0.9713"
            ]
          },
          "metadata": {
            "tags": []
          },
          "execution_count": 43
        }
      ]
    },
    {
      "cell_type": "markdown",
      "metadata": {
        "id": "rm4HDuFeaK6G"
      },
      "source": [
        "0.9687 -> 0.9713 improve ! "
      ]
    },
    {
      "cell_type": "markdown",
      "metadata": {
        "id": "ZiB79svCaLOI"
      },
      "source": [
        "- soft voting classifier / hard voting classifier"
      ]
    },
    {
      "cell_type": "code",
      "metadata": {
        "colab": {
          "base_uri": "https://localhost:8080/"
        },
        "id": "LNz-tPD_aKB6",
        "outputId": "8563b662-dc1f-4f85-e01b-1e5bfd1c9b5f"
      },
      "source": [
        "# soft\n",
        "voting_clf.voting = \"soft\"\n",
        "voting_clf.score(X_val, y_val)"
      ],
      "execution_count": null,
      "outputs": [
        {
          "output_type": "execute_result",
          "data": {
            "text/plain": [
              "0.9719"
            ]
          },
          "metadata": {
            "tags": []
          },
          "execution_count": 51
        }
      ]
    },
    {
      "cell_type": "code",
      "metadata": {
        "colab": {
          "base_uri": "https://localhost:8080/"
        },
        "id": "TJKlY2LrbIpY",
        "outputId": "d725eb53-3b85-4406-9700-b941ed328e17"
      },
      "source": [
        "# hard\n",
        "voting_clf.voting = \"hard\"\n",
        "print(voting_clf.score(X_val, y_val))"
      ],
      "execution_count": null,
      "outputs": [
        {
          "output_type": "stream",
          "text": [
            "0.9713\n"
          ],
          "name": "stdout"
        }
      ]
    },
    {
      "cell_type": "code",
      "metadata": {
        "colab": {
          "base_uri": "https://localhost:8080/"
        },
        "id": "FrxGG1DFbmuv",
        "outputId": "8cd9f220-3499-424f-e772-b97f96aca064"
      },
      "source": [
        "voting_clf.voting = \"soft\"\n",
        "print(voting_clf.score(X_test, y_test))"
      ],
      "execution_count": null,
      "outputs": [
        {
          "output_type": "stream",
          "text": [
            "0.9681\n"
          ],
          "name": "stdout"
        }
      ]
    },
    {
      "cell_type": "code",
      "metadata": {
        "colab": {
          "base_uri": "https://localhost:8080/"
        },
        "id": "16lYJazFbN44",
        "outputId": "829a0662-8352-4968-f748-47ecd81877e3"
      },
      "source": [
        "[voting_clf.score(X_test, y_test) for estimator in voting_clf.estimators_]"
      ],
      "execution_count": null,
      "outputs": [
        {
          "output_type": "execute_result",
          "data": {
            "text/plain": [
              "[0.9681, 0.9681]"
            ]
          },
          "metadata": {
            "tags": []
          },
          "execution_count": 59
        }
      ]
    },
    {
      "cell_type": "markdown",
      "metadata": {
        "id": "kaZ6zO6gdR1H"
      },
      "source": [
        "# EX 9"
      ]
    },
    {
      "cell_type": "markdown",
      "metadata": {
        "id": "YGEouj0iflc3"
      },
      "source": [
        "- Run the classifiers from the previous exercise to make predictions on the validation set, and create a new training set with the resulting predictions"
      ]
    },
    {
      "cell_type": "code",
      "metadata": {
        "id": "ObO7H7B5dT_a"
      },
      "source": [
        "import numpy as np\n",
        "\n",
        "X_val_predictions = np.empty((len(X_val), len(estimators)), dtype=np.float32)\n",
        "\n",
        "for index, estimator in enumerate(estimators):\n",
        "    X_val_predictions[:, index] = estimator.predict(X_val)"
      ],
      "execution_count": null,
      "outputs": []
    },
    {
      "cell_type": "code",
      "metadata": {
        "colab": {
          "base_uri": "https://localhost:8080/"
        },
        "id": "Ym8ADtB2dg1t",
        "outputId": "9511c214-cd7d-4bd0-dda6-fb5d51a6939b"
      },
      "source": [
        "X_val_predictions"
      ],
      "execution_count": null,
      "outputs": [
        {
          "output_type": "execute_result",
          "data": {
            "text/plain": [
              "array([[5., 5., 5.],\n",
              "       [8., 8., 8.],\n",
              "       [2., 2., 2.],\n",
              "       ...,\n",
              "       [7., 7., 7.],\n",
              "       [6., 6., 6.],\n",
              "       [7., 7., 7.]], dtype=float32)"
            ]
          },
          "metadata": {
            "tags": []
          },
          "execution_count": 62
        }
      ]
    },
    {
      "cell_type": "code",
      "metadata": {
        "colab": {
          "base_uri": "https://localhost:8080/"
        },
        "id": "lKcld6gpdjI_",
        "outputId": "ad04e46f-d80d-475c-88f8-67137278d38e"
      },
      "source": [
        "rnd_forest_blender = RandomForestClassifier(n_estimators=200, oob_score=True, random_state=42)\n",
        "rnd_forest_blender.fit(X_val_predictions, y_val)"
      ],
      "execution_count": null,
      "outputs": [
        {
          "output_type": "execute_result",
          "data": {
            "text/plain": [
              "RandomForestClassifier(bootstrap=True, ccp_alpha=0.0, class_weight=None,\n",
              "                       criterion='gini', max_depth=None, max_features='auto',\n",
              "                       max_leaf_nodes=None, max_samples=None,\n",
              "                       min_impurity_decrease=0.0, min_impurity_split=None,\n",
              "                       min_samples_leaf=1, min_samples_split=2,\n",
              "                       min_weight_fraction_leaf=0.0, n_estimators=200,\n",
              "                       n_jobs=None, oob_score=True, random_state=42, verbose=0,\n",
              "                       warm_start=False)"
            ]
          },
          "metadata": {
            "tags": []
          },
          "execution_count": 73
        }
      ]
    },
    {
      "cell_type": "code",
      "metadata": {
        "colab": {
          "base_uri": "https://localhost:8080/"
        },
        "id": "d-sHL8lZdlQN",
        "outputId": "002106b5-81d5-4637-fea8-91a601c0b280"
      },
      "source": [
        "rnd_forest_blender.oob_score_"
      ],
      "execution_count": null,
      "outputs": [
        {
          "output_type": "execute_result",
          "data": {
            "text/plain": [
              "0.9705"
            ]
          },
          "metadata": {
            "tags": []
          },
          "execution_count": 74
        }
      ]
    },
    {
      "cell_type": "code",
      "metadata": {
        "colab": {
          "base_uri": "https://localhost:8080/"
        },
        "id": "7zYM5eVNfTbA",
        "outputId": "6ac1658d-efe2-43f5-f9ac-edfed5574499"
      },
      "source": [
        "# test\n",
        "X_test_predictions = np.empty((len(X_test), len(estimators)), dtype=np.float32)\n",
        "\n",
        "for index, estimator in enumerate(estimators):\n",
        "    X_test_predictions[:, index] = estimator.predict(X_test)\n",
        "\n",
        "\n",
        "y_pred = rnd_forest_blender.predict(X_test_predictions)\n",
        "accuracy_score(y_test, y_pred)"
      ],
      "execution_count": null,
      "outputs": [
        {
          "output_type": "execute_result",
          "data": {
            "text/plain": [
              "0.9653"
            ]
          },
          "metadata": {
            "tags": []
          },
          "execution_count": 76
        }
      ]
    }
  ]
}